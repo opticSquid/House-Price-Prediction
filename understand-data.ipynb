{
 "cells": [
  {
   "cell_type": "markdown",
   "id": "300eeeab",
   "metadata": {},
   "source": [
    "# Ames City Housing Price Dataset Exploration"
   ]
  },
  {
   "cell_type": "markdown",
   "id": "d780eec3",
   "metadata": {},
   "source": [
    "## Importing required libraries"
   ]
  },
  {
   "cell_type": "code",
   "execution_count": 19,
   "id": "825162d1",
   "metadata": {},
   "outputs": [],
   "source": [
    "import pandas as pd\n",
    "import matplotlib.pyplot as plt\n",
    "from sklearn.preprocessing import StandardScaler\n",
    "from sklearn.ensemble import RandomForestRegressor\n",
    "%matplotlib inline"
   ]
  },
  {
   "cell_type": "markdown",
   "id": "97b56ddd",
   "metadata": {},
   "source": [
    "## Importing Data"
   ]
  },
  {
   "cell_type": "markdown",
   "id": "02f5e775",
   "metadata": {},
   "source": [
    "### Importing Training Data"
   ]
  },
  {
   "cell_type": "code",
   "execution_count": 20,
   "id": "1eb24c3c",
   "metadata": {},
   "outputs": [],
   "source": [
    "train_data = pd.read_csv('./data/train.csv')"
   ]
  },
  {
   "cell_type": "markdown",
   "id": "04ae69ee",
   "metadata": {},
   "source": [
    "### Importing Testing Data"
   ]
  },
  {
   "cell_type": "code",
   "execution_count": 21,
   "id": "2971748c",
   "metadata": {},
   "outputs": [],
   "source": [
    "test_data = pd.read_csv('./data/test.csv')"
   ]
  },
  {
   "cell_type": "markdown",
   "id": "f64b2490",
   "metadata": {},
   "source": [
    "## Getting to know the data in hand"
   ]
  },
  {
   "cell_type": "markdown",
   "id": "d3343e46",
   "metadata": {},
   "source": [
    "### Dataset Description"
   ]
  },
  {
   "cell_type": "code",
   "execution_count": 22,
   "id": "9c88a745",
   "metadata": {},
   "outputs": [
    {
     "data": {
      "application/vnd.microsoft.datawrangler.viewer.v0+json": {
       "columns": [
        {
         "name": "index",
         "rawType": "object",
         "type": "string"
        },
        {
         "name": "Id",
         "rawType": "float64",
         "type": "float"
        },
        {
         "name": "MSSubClass",
         "rawType": "float64",
         "type": "float"
        },
        {
         "name": "LotFrontage",
         "rawType": "float64",
         "type": "float"
        },
        {
         "name": "LotArea",
         "rawType": "float64",
         "type": "float"
        },
        {
         "name": "OverallQual",
         "rawType": "float64",
         "type": "float"
        },
        {
         "name": "OverallCond",
         "rawType": "float64",
         "type": "float"
        },
        {
         "name": "YearBuilt",
         "rawType": "float64",
         "type": "float"
        },
        {
         "name": "YearRemodAdd",
         "rawType": "float64",
         "type": "float"
        },
        {
         "name": "MasVnrArea",
         "rawType": "float64",
         "type": "float"
        },
        {
         "name": "BsmtFinSF1",
         "rawType": "float64",
         "type": "float"
        },
        {
         "name": "BsmtFinSF2",
         "rawType": "float64",
         "type": "float"
        },
        {
         "name": "BsmtUnfSF",
         "rawType": "float64",
         "type": "float"
        },
        {
         "name": "TotalBsmtSF",
         "rawType": "float64",
         "type": "float"
        },
        {
         "name": "1stFlrSF",
         "rawType": "float64",
         "type": "float"
        },
        {
         "name": "2ndFlrSF",
         "rawType": "float64",
         "type": "float"
        },
        {
         "name": "LowQualFinSF",
         "rawType": "float64",
         "type": "float"
        },
        {
         "name": "GrLivArea",
         "rawType": "float64",
         "type": "float"
        },
        {
         "name": "BsmtFullBath",
         "rawType": "float64",
         "type": "float"
        },
        {
         "name": "BsmtHalfBath",
         "rawType": "float64",
         "type": "float"
        },
        {
         "name": "FullBath",
         "rawType": "float64",
         "type": "float"
        },
        {
         "name": "HalfBath",
         "rawType": "float64",
         "type": "float"
        },
        {
         "name": "BedroomAbvGr",
         "rawType": "float64",
         "type": "float"
        },
        {
         "name": "KitchenAbvGr",
         "rawType": "float64",
         "type": "float"
        },
        {
         "name": "TotRmsAbvGrd",
         "rawType": "float64",
         "type": "float"
        },
        {
         "name": "Fireplaces",
         "rawType": "float64",
         "type": "float"
        },
        {
         "name": "GarageYrBlt",
         "rawType": "float64",
         "type": "float"
        },
        {
         "name": "GarageCars",
         "rawType": "float64",
         "type": "float"
        },
        {
         "name": "GarageArea",
         "rawType": "float64",
         "type": "float"
        },
        {
         "name": "WoodDeckSF",
         "rawType": "float64",
         "type": "float"
        },
        {
         "name": "OpenPorchSF",
         "rawType": "float64",
         "type": "float"
        },
        {
         "name": "EnclosedPorch",
         "rawType": "float64",
         "type": "float"
        },
        {
         "name": "3SsnPorch",
         "rawType": "float64",
         "type": "float"
        },
        {
         "name": "ScreenPorch",
         "rawType": "float64",
         "type": "float"
        },
        {
         "name": "PoolArea",
         "rawType": "float64",
         "type": "float"
        },
        {
         "name": "MiscVal",
         "rawType": "float64",
         "type": "float"
        },
        {
         "name": "MoSold",
         "rawType": "float64",
         "type": "float"
        },
        {
         "name": "YrSold",
         "rawType": "float64",
         "type": "float"
        },
        {
         "name": "SalePrice",
         "rawType": "float64",
         "type": "float"
        }
       ],
       "ref": "3d6f195a-0bcc-451a-8ad3-d8c95ec0cc2d",
       "rows": [
        [
         "count",
         "1460.0",
         "1460.0",
         "1201.0",
         "1460.0",
         "1460.0",
         "1460.0",
         "1460.0",
         "1460.0",
         "1452.0",
         "1460.0",
         "1460.0",
         "1460.0",
         "1460.0",
         "1460.0",
         "1460.0",
         "1460.0",
         "1460.0",
         "1460.0",
         "1460.0",
         "1460.0",
         "1460.0",
         "1460.0",
         "1460.0",
         "1460.0",
         "1460.0",
         "1379.0",
         "1460.0",
         "1460.0",
         "1460.0",
         "1460.0",
         "1460.0",
         "1460.0",
         "1460.0",
         "1460.0",
         "1460.0",
         "1460.0",
         "1460.0",
         "1460.0"
        ],
        [
         "mean",
         "730.5",
         "56.897260273972606",
         "70.04995836802665",
         "10516.828082191782",
         "6.0993150684931505",
         "5.575342465753424",
         "1971.267808219178",
         "1984.8657534246574",
         "103.68526170798899",
         "443.6397260273973",
         "46.54931506849315",
         "567.2404109589041",
         "1057.4294520547944",
         "1162.626712328767",
         "346.99246575342465",
         "5.844520547945206",
         "1515.463698630137",
         "0.42534246575342466",
         "0.057534246575342465",
         "1.5650684931506849",
         "0.38287671232876713",
         "2.8664383561643834",
         "1.0465753424657533",
         "6.517808219178082",
         "0.613013698630137",
         "1978.5061638868744",
         "1.7671232876712328",
         "472.9801369863014",
         "94.2445205479452",
         "46.66027397260274",
         "21.954109589041096",
         "3.4095890410958902",
         "15.060958904109588",
         "2.758904109589041",
         "43.489041095890414",
         "6.321917808219178",
         "2007.8157534246575",
         "180921.19589041095"
        ],
        [
         "std",
         "421.6100093688479",
         "42.300570993810425",
         "24.284751774483208",
         "9981.26493237915",
         "1.3829965467415934",
         "1.1127993367127316",
         "30.202904042525258",
         "20.645406807709413",
         "181.0662065872166",
         "456.0980908409277",
         "161.31927280654173",
         "441.86695529243417",
         "438.7053244594708",
         "386.5877380410744",
         "436.5284358862568",
         "48.62308143352019",
         "525.4803834232025",
         "0.5189106060898065",
         "0.23875264627921178",
         "0.5509158012954317",
         "0.5028853810928914",
         "0.8157780441442284",
         "0.22033819838403068",
         "1.6253932905840505",
         "0.6446663863122295",
         "24.689724768590242",
         "0.7473150101111095",
         "213.80484145338042",
         "125.3387943517241",
         "66.25602767664971",
         "61.1191486017286",
         "29.31733055678188",
         "55.757415281874174",
         "40.17730694453019",
         "496.12302445794415",
         "2.7036262083595126",
         "1.3280951205521099",
         "79442.50288288662"
        ],
        [
         "min",
         "1.0",
         "20.0",
         "21.0",
         "1300.0",
         "1.0",
         "1.0",
         "1872.0",
         "1950.0",
         "0.0",
         "0.0",
         "0.0",
         "0.0",
         "0.0",
         "334.0",
         "0.0",
         "0.0",
         "334.0",
         "0.0",
         "0.0",
         "0.0",
         "0.0",
         "0.0",
         "0.0",
         "2.0",
         "0.0",
         "1900.0",
         "0.0",
         "0.0",
         "0.0",
         "0.0",
         "0.0",
         "0.0",
         "0.0",
         "0.0",
         "0.0",
         "1.0",
         "2006.0",
         "34900.0"
        ],
        [
         "25%",
         "365.75",
         "20.0",
         "59.0",
         "7553.5",
         "5.0",
         "5.0",
         "1954.0",
         "1967.0",
         "0.0",
         "0.0",
         "0.0",
         "223.0",
         "795.75",
         "882.0",
         "0.0",
         "0.0",
         "1129.5",
         "0.0",
         "0.0",
         "1.0",
         "0.0",
         "2.0",
         "1.0",
         "5.0",
         "0.0",
         "1961.0",
         "1.0",
         "334.5",
         "0.0",
         "0.0",
         "0.0",
         "0.0",
         "0.0",
         "0.0",
         "0.0",
         "5.0",
         "2007.0",
         "129975.0"
        ],
        [
         "50%",
         "730.5",
         "50.0",
         "69.0",
         "9478.5",
         "6.0",
         "5.0",
         "1973.0",
         "1994.0",
         "0.0",
         "383.5",
         "0.0",
         "477.5",
         "991.5",
         "1087.0",
         "0.0",
         "0.0",
         "1464.0",
         "0.0",
         "0.0",
         "2.0",
         "0.0",
         "3.0",
         "1.0",
         "6.0",
         "1.0",
         "1980.0",
         "2.0",
         "480.0",
         "0.0",
         "25.0",
         "0.0",
         "0.0",
         "0.0",
         "0.0",
         "0.0",
         "6.0",
         "2008.0",
         "163000.0"
        ],
        [
         "75%",
         "1095.25",
         "70.0",
         "80.0",
         "11601.5",
         "7.0",
         "6.0",
         "2000.0",
         "2004.0",
         "166.0",
         "712.25",
         "0.0",
         "808.0",
         "1298.25",
         "1391.25",
         "728.0",
         "0.0",
         "1776.75",
         "1.0",
         "0.0",
         "2.0",
         "1.0",
         "3.0",
         "1.0",
         "7.0",
         "1.0",
         "2002.0",
         "2.0",
         "576.0",
         "168.0",
         "68.0",
         "0.0",
         "0.0",
         "0.0",
         "0.0",
         "0.0",
         "8.0",
         "2009.0",
         "214000.0"
        ],
        [
         "max",
         "1460.0",
         "190.0",
         "313.0",
         "215245.0",
         "10.0",
         "9.0",
         "2010.0",
         "2010.0",
         "1600.0",
         "5644.0",
         "1474.0",
         "2336.0",
         "6110.0",
         "4692.0",
         "2065.0",
         "572.0",
         "5642.0",
         "3.0",
         "2.0",
         "3.0",
         "2.0",
         "8.0",
         "3.0",
         "14.0",
         "3.0",
         "2010.0",
         "4.0",
         "1418.0",
         "857.0",
         "547.0",
         "552.0",
         "508.0",
         "480.0",
         "738.0",
         "15500.0",
         "12.0",
         "2010.0",
         "755000.0"
        ]
       ],
       "shape": {
        "columns": 38,
        "rows": 8
       }
      },
      "text/html": [
       "<div>\n",
       "<style scoped>\n",
       "    .dataframe tbody tr th:only-of-type {\n",
       "        vertical-align: middle;\n",
       "    }\n",
       "\n",
       "    .dataframe tbody tr th {\n",
       "        vertical-align: top;\n",
       "    }\n",
       "\n",
       "    .dataframe thead th {\n",
       "        text-align: right;\n",
       "    }\n",
       "</style>\n",
       "<table border=\"1\" class=\"dataframe\">\n",
       "  <thead>\n",
       "    <tr style=\"text-align: right;\">\n",
       "      <th></th>\n",
       "      <th>Id</th>\n",
       "      <th>MSSubClass</th>\n",
       "      <th>LotFrontage</th>\n",
       "      <th>LotArea</th>\n",
       "      <th>OverallQual</th>\n",
       "      <th>OverallCond</th>\n",
       "      <th>YearBuilt</th>\n",
       "      <th>YearRemodAdd</th>\n",
       "      <th>MasVnrArea</th>\n",
       "      <th>BsmtFinSF1</th>\n",
       "      <th>...</th>\n",
       "      <th>WoodDeckSF</th>\n",
       "      <th>OpenPorchSF</th>\n",
       "      <th>EnclosedPorch</th>\n",
       "      <th>3SsnPorch</th>\n",
       "      <th>ScreenPorch</th>\n",
       "      <th>PoolArea</th>\n",
       "      <th>MiscVal</th>\n",
       "      <th>MoSold</th>\n",
       "      <th>YrSold</th>\n",
       "      <th>SalePrice</th>\n",
       "    </tr>\n",
       "  </thead>\n",
       "  <tbody>\n",
       "    <tr>\n",
       "      <th>count</th>\n",
       "      <td>1460.000000</td>\n",
       "      <td>1460.000000</td>\n",
       "      <td>1201.000000</td>\n",
       "      <td>1460.000000</td>\n",
       "      <td>1460.000000</td>\n",
       "      <td>1460.000000</td>\n",
       "      <td>1460.000000</td>\n",
       "      <td>1460.000000</td>\n",
       "      <td>1452.000000</td>\n",
       "      <td>1460.000000</td>\n",
       "      <td>...</td>\n",
       "      <td>1460.000000</td>\n",
       "      <td>1460.000000</td>\n",
       "      <td>1460.000000</td>\n",
       "      <td>1460.000000</td>\n",
       "      <td>1460.000000</td>\n",
       "      <td>1460.000000</td>\n",
       "      <td>1460.000000</td>\n",
       "      <td>1460.000000</td>\n",
       "      <td>1460.000000</td>\n",
       "      <td>1460.000000</td>\n",
       "    </tr>\n",
       "    <tr>\n",
       "      <th>mean</th>\n",
       "      <td>730.500000</td>\n",
       "      <td>56.897260</td>\n",
       "      <td>70.049958</td>\n",
       "      <td>10516.828082</td>\n",
       "      <td>6.099315</td>\n",
       "      <td>5.575342</td>\n",
       "      <td>1971.267808</td>\n",
       "      <td>1984.865753</td>\n",
       "      <td>103.685262</td>\n",
       "      <td>443.639726</td>\n",
       "      <td>...</td>\n",
       "      <td>94.244521</td>\n",
       "      <td>46.660274</td>\n",
       "      <td>21.954110</td>\n",
       "      <td>3.409589</td>\n",
       "      <td>15.060959</td>\n",
       "      <td>2.758904</td>\n",
       "      <td>43.489041</td>\n",
       "      <td>6.321918</td>\n",
       "      <td>2007.815753</td>\n",
       "      <td>180921.195890</td>\n",
       "    </tr>\n",
       "    <tr>\n",
       "      <th>std</th>\n",
       "      <td>421.610009</td>\n",
       "      <td>42.300571</td>\n",
       "      <td>24.284752</td>\n",
       "      <td>9981.264932</td>\n",
       "      <td>1.382997</td>\n",
       "      <td>1.112799</td>\n",
       "      <td>30.202904</td>\n",
       "      <td>20.645407</td>\n",
       "      <td>181.066207</td>\n",
       "      <td>456.098091</td>\n",
       "      <td>...</td>\n",
       "      <td>125.338794</td>\n",
       "      <td>66.256028</td>\n",
       "      <td>61.119149</td>\n",
       "      <td>29.317331</td>\n",
       "      <td>55.757415</td>\n",
       "      <td>40.177307</td>\n",
       "      <td>496.123024</td>\n",
       "      <td>2.703626</td>\n",
       "      <td>1.328095</td>\n",
       "      <td>79442.502883</td>\n",
       "    </tr>\n",
       "    <tr>\n",
       "      <th>min</th>\n",
       "      <td>1.000000</td>\n",
       "      <td>20.000000</td>\n",
       "      <td>21.000000</td>\n",
       "      <td>1300.000000</td>\n",
       "      <td>1.000000</td>\n",
       "      <td>1.000000</td>\n",
       "      <td>1872.000000</td>\n",
       "      <td>1950.000000</td>\n",
       "      <td>0.000000</td>\n",
       "      <td>0.000000</td>\n",
       "      <td>...</td>\n",
       "      <td>0.000000</td>\n",
       "      <td>0.000000</td>\n",
       "      <td>0.000000</td>\n",
       "      <td>0.000000</td>\n",
       "      <td>0.000000</td>\n",
       "      <td>0.000000</td>\n",
       "      <td>0.000000</td>\n",
       "      <td>1.000000</td>\n",
       "      <td>2006.000000</td>\n",
       "      <td>34900.000000</td>\n",
       "    </tr>\n",
       "    <tr>\n",
       "      <th>25%</th>\n",
       "      <td>365.750000</td>\n",
       "      <td>20.000000</td>\n",
       "      <td>59.000000</td>\n",
       "      <td>7553.500000</td>\n",
       "      <td>5.000000</td>\n",
       "      <td>5.000000</td>\n",
       "      <td>1954.000000</td>\n",
       "      <td>1967.000000</td>\n",
       "      <td>0.000000</td>\n",
       "      <td>0.000000</td>\n",
       "      <td>...</td>\n",
       "      <td>0.000000</td>\n",
       "      <td>0.000000</td>\n",
       "      <td>0.000000</td>\n",
       "      <td>0.000000</td>\n",
       "      <td>0.000000</td>\n",
       "      <td>0.000000</td>\n",
       "      <td>0.000000</td>\n",
       "      <td>5.000000</td>\n",
       "      <td>2007.000000</td>\n",
       "      <td>129975.000000</td>\n",
       "    </tr>\n",
       "    <tr>\n",
       "      <th>50%</th>\n",
       "      <td>730.500000</td>\n",
       "      <td>50.000000</td>\n",
       "      <td>69.000000</td>\n",
       "      <td>9478.500000</td>\n",
       "      <td>6.000000</td>\n",
       "      <td>5.000000</td>\n",
       "      <td>1973.000000</td>\n",
       "      <td>1994.000000</td>\n",
       "      <td>0.000000</td>\n",
       "      <td>383.500000</td>\n",
       "      <td>...</td>\n",
       "      <td>0.000000</td>\n",
       "      <td>25.000000</td>\n",
       "      <td>0.000000</td>\n",
       "      <td>0.000000</td>\n",
       "      <td>0.000000</td>\n",
       "      <td>0.000000</td>\n",
       "      <td>0.000000</td>\n",
       "      <td>6.000000</td>\n",
       "      <td>2008.000000</td>\n",
       "      <td>163000.000000</td>\n",
       "    </tr>\n",
       "    <tr>\n",
       "      <th>75%</th>\n",
       "      <td>1095.250000</td>\n",
       "      <td>70.000000</td>\n",
       "      <td>80.000000</td>\n",
       "      <td>11601.500000</td>\n",
       "      <td>7.000000</td>\n",
       "      <td>6.000000</td>\n",
       "      <td>2000.000000</td>\n",
       "      <td>2004.000000</td>\n",
       "      <td>166.000000</td>\n",
       "      <td>712.250000</td>\n",
       "      <td>...</td>\n",
       "      <td>168.000000</td>\n",
       "      <td>68.000000</td>\n",
       "      <td>0.000000</td>\n",
       "      <td>0.000000</td>\n",
       "      <td>0.000000</td>\n",
       "      <td>0.000000</td>\n",
       "      <td>0.000000</td>\n",
       "      <td>8.000000</td>\n",
       "      <td>2009.000000</td>\n",
       "      <td>214000.000000</td>\n",
       "    </tr>\n",
       "    <tr>\n",
       "      <th>max</th>\n",
       "      <td>1460.000000</td>\n",
       "      <td>190.000000</td>\n",
       "      <td>313.000000</td>\n",
       "      <td>215245.000000</td>\n",
       "      <td>10.000000</td>\n",
       "      <td>9.000000</td>\n",
       "      <td>2010.000000</td>\n",
       "      <td>2010.000000</td>\n",
       "      <td>1600.000000</td>\n",
       "      <td>5644.000000</td>\n",
       "      <td>...</td>\n",
       "      <td>857.000000</td>\n",
       "      <td>547.000000</td>\n",
       "      <td>552.000000</td>\n",
       "      <td>508.000000</td>\n",
       "      <td>480.000000</td>\n",
       "      <td>738.000000</td>\n",
       "      <td>15500.000000</td>\n",
       "      <td>12.000000</td>\n",
       "      <td>2010.000000</td>\n",
       "      <td>755000.000000</td>\n",
       "    </tr>\n",
       "  </tbody>\n",
       "</table>\n",
       "<p>8 rows × 38 columns</p>\n",
       "</div>"
      ],
      "text/plain": [
       "                Id   MSSubClass  LotFrontage        LotArea  OverallQual  \\\n",
       "count  1460.000000  1460.000000  1201.000000    1460.000000  1460.000000   \n",
       "mean    730.500000    56.897260    70.049958   10516.828082     6.099315   \n",
       "std     421.610009    42.300571    24.284752    9981.264932     1.382997   \n",
       "min       1.000000    20.000000    21.000000    1300.000000     1.000000   \n",
       "25%     365.750000    20.000000    59.000000    7553.500000     5.000000   \n",
       "50%     730.500000    50.000000    69.000000    9478.500000     6.000000   \n",
       "75%    1095.250000    70.000000    80.000000   11601.500000     7.000000   \n",
       "max    1460.000000   190.000000   313.000000  215245.000000    10.000000   \n",
       "\n",
       "       OverallCond    YearBuilt  YearRemodAdd   MasVnrArea   BsmtFinSF1  ...  \\\n",
       "count  1460.000000  1460.000000   1460.000000  1452.000000  1460.000000  ...   \n",
       "mean      5.575342  1971.267808   1984.865753   103.685262   443.639726  ...   \n",
       "std       1.112799    30.202904     20.645407   181.066207   456.098091  ...   \n",
       "min       1.000000  1872.000000   1950.000000     0.000000     0.000000  ...   \n",
       "25%       5.000000  1954.000000   1967.000000     0.000000     0.000000  ...   \n",
       "50%       5.000000  1973.000000   1994.000000     0.000000   383.500000  ...   \n",
       "75%       6.000000  2000.000000   2004.000000   166.000000   712.250000  ...   \n",
       "max       9.000000  2010.000000   2010.000000  1600.000000  5644.000000  ...   \n",
       "\n",
       "        WoodDeckSF  OpenPorchSF  EnclosedPorch    3SsnPorch  ScreenPorch  \\\n",
       "count  1460.000000  1460.000000    1460.000000  1460.000000  1460.000000   \n",
       "mean     94.244521    46.660274      21.954110     3.409589    15.060959   \n",
       "std     125.338794    66.256028      61.119149    29.317331    55.757415   \n",
       "min       0.000000     0.000000       0.000000     0.000000     0.000000   \n",
       "25%       0.000000     0.000000       0.000000     0.000000     0.000000   \n",
       "50%       0.000000    25.000000       0.000000     0.000000     0.000000   \n",
       "75%     168.000000    68.000000       0.000000     0.000000     0.000000   \n",
       "max     857.000000   547.000000     552.000000   508.000000   480.000000   \n",
       "\n",
       "          PoolArea       MiscVal       MoSold       YrSold      SalePrice  \n",
       "count  1460.000000   1460.000000  1460.000000  1460.000000    1460.000000  \n",
       "mean      2.758904     43.489041     6.321918  2007.815753  180921.195890  \n",
       "std      40.177307    496.123024     2.703626     1.328095   79442.502883  \n",
       "min       0.000000      0.000000     1.000000  2006.000000   34900.000000  \n",
       "25%       0.000000      0.000000     5.000000  2007.000000  129975.000000  \n",
       "50%       0.000000      0.000000     6.000000  2008.000000  163000.000000  \n",
       "75%       0.000000      0.000000     8.000000  2009.000000  214000.000000  \n",
       "max     738.000000  15500.000000    12.000000  2010.000000  755000.000000  \n",
       "\n",
       "[8 rows x 38 columns]"
      ]
     },
     "execution_count": 22,
     "metadata": {},
     "output_type": "execute_result"
    }
   ],
   "source": [
    "train_data.describe()"
   ]
  },
  {
   "cell_type": "markdown",
   "id": "85522729",
   "metadata": {},
   "source": [
    "### As this view does not show all the colums, we have to see the raw view of the first few colums of the data"
   ]
  },
  {
   "cell_type": "code",
   "execution_count": 23,
   "id": "0d81ea58",
   "metadata": {},
   "outputs": [
    {
     "data": {
      "application/vnd.microsoft.datawrangler.viewer.v0+json": {
       "columns": [
        {
         "name": "index",
         "rawType": "int64",
         "type": "integer"
        },
        {
         "name": "Id",
         "rawType": "int64",
         "type": "integer"
        },
        {
         "name": "MSSubClass",
         "rawType": "int64",
         "type": "integer"
        },
        {
         "name": "MSZoning",
         "rawType": "object",
         "type": "string"
        },
        {
         "name": "LotFrontage",
         "rawType": "float64",
         "type": "float"
        },
        {
         "name": "LotArea",
         "rawType": "int64",
         "type": "integer"
        },
        {
         "name": "Street",
         "rawType": "object",
         "type": "string"
        },
        {
         "name": "Alley",
         "rawType": "object",
         "type": "unknown"
        },
        {
         "name": "LotShape",
         "rawType": "object",
         "type": "string"
        },
        {
         "name": "LandContour",
         "rawType": "object",
         "type": "string"
        },
        {
         "name": "Utilities",
         "rawType": "object",
         "type": "string"
        },
        {
         "name": "LotConfig",
         "rawType": "object",
         "type": "string"
        },
        {
         "name": "LandSlope",
         "rawType": "object",
         "type": "string"
        },
        {
         "name": "Neighborhood",
         "rawType": "object",
         "type": "string"
        },
        {
         "name": "Condition1",
         "rawType": "object",
         "type": "string"
        },
        {
         "name": "Condition2",
         "rawType": "object",
         "type": "string"
        },
        {
         "name": "BldgType",
         "rawType": "object",
         "type": "string"
        },
        {
         "name": "HouseStyle",
         "rawType": "object",
         "type": "string"
        },
        {
         "name": "OverallQual",
         "rawType": "int64",
         "type": "integer"
        },
        {
         "name": "OverallCond",
         "rawType": "int64",
         "type": "integer"
        },
        {
         "name": "YearBuilt",
         "rawType": "int64",
         "type": "integer"
        },
        {
         "name": "YearRemodAdd",
         "rawType": "int64",
         "type": "integer"
        },
        {
         "name": "RoofStyle",
         "rawType": "object",
         "type": "string"
        },
        {
         "name": "RoofMatl",
         "rawType": "object",
         "type": "string"
        },
        {
         "name": "Exterior1st",
         "rawType": "object",
         "type": "string"
        },
        {
         "name": "Exterior2nd",
         "rawType": "object",
         "type": "string"
        },
        {
         "name": "MasVnrType",
         "rawType": "object",
         "type": "unknown"
        },
        {
         "name": "MasVnrArea",
         "rawType": "float64",
         "type": "float"
        },
        {
         "name": "ExterQual",
         "rawType": "object",
         "type": "string"
        },
        {
         "name": "ExterCond",
         "rawType": "object",
         "type": "string"
        },
        {
         "name": "Foundation",
         "rawType": "object",
         "type": "string"
        },
        {
         "name": "BsmtQual",
         "rawType": "object",
         "type": "string"
        },
        {
         "name": "BsmtCond",
         "rawType": "object",
         "type": "string"
        },
        {
         "name": "BsmtExposure",
         "rawType": "object",
         "type": "string"
        },
        {
         "name": "BsmtFinType1",
         "rawType": "object",
         "type": "string"
        },
        {
         "name": "BsmtFinSF1",
         "rawType": "int64",
         "type": "integer"
        },
        {
         "name": "BsmtFinType2",
         "rawType": "object",
         "type": "string"
        },
        {
         "name": "BsmtFinSF2",
         "rawType": "int64",
         "type": "integer"
        },
        {
         "name": "BsmtUnfSF",
         "rawType": "int64",
         "type": "integer"
        },
        {
         "name": "TotalBsmtSF",
         "rawType": "int64",
         "type": "integer"
        },
        {
         "name": "Heating",
         "rawType": "object",
         "type": "string"
        },
        {
         "name": "HeatingQC",
         "rawType": "object",
         "type": "string"
        },
        {
         "name": "CentralAir",
         "rawType": "object",
         "type": "string"
        },
        {
         "name": "Electrical",
         "rawType": "object",
         "type": "string"
        },
        {
         "name": "1stFlrSF",
         "rawType": "int64",
         "type": "integer"
        },
        {
         "name": "2ndFlrSF",
         "rawType": "int64",
         "type": "integer"
        },
        {
         "name": "LowQualFinSF",
         "rawType": "int64",
         "type": "integer"
        },
        {
         "name": "GrLivArea",
         "rawType": "int64",
         "type": "integer"
        },
        {
         "name": "BsmtFullBath",
         "rawType": "int64",
         "type": "integer"
        },
        {
         "name": "BsmtHalfBath",
         "rawType": "int64",
         "type": "integer"
        },
        {
         "name": "FullBath",
         "rawType": "int64",
         "type": "integer"
        },
        {
         "name": "HalfBath",
         "rawType": "int64",
         "type": "integer"
        },
        {
         "name": "BedroomAbvGr",
         "rawType": "int64",
         "type": "integer"
        },
        {
         "name": "KitchenAbvGr",
         "rawType": "int64",
         "type": "integer"
        },
        {
         "name": "KitchenQual",
         "rawType": "object",
         "type": "string"
        },
        {
         "name": "TotRmsAbvGrd",
         "rawType": "int64",
         "type": "integer"
        },
        {
         "name": "Functional",
         "rawType": "object",
         "type": "string"
        },
        {
         "name": "Fireplaces",
         "rawType": "int64",
         "type": "integer"
        },
        {
         "name": "FireplaceQu",
         "rawType": "object",
         "type": "unknown"
        },
        {
         "name": "GarageType",
         "rawType": "object",
         "type": "string"
        },
        {
         "name": "GarageYrBlt",
         "rawType": "float64",
         "type": "float"
        },
        {
         "name": "GarageFinish",
         "rawType": "object",
         "type": "string"
        },
        {
         "name": "GarageCars",
         "rawType": "int64",
         "type": "integer"
        },
        {
         "name": "GarageArea",
         "rawType": "int64",
         "type": "integer"
        },
        {
         "name": "GarageQual",
         "rawType": "object",
         "type": "string"
        },
        {
         "name": "GarageCond",
         "rawType": "object",
         "type": "string"
        },
        {
         "name": "PavedDrive",
         "rawType": "object",
         "type": "string"
        },
        {
         "name": "WoodDeckSF",
         "rawType": "int64",
         "type": "integer"
        },
        {
         "name": "OpenPorchSF",
         "rawType": "int64",
         "type": "integer"
        },
        {
         "name": "EnclosedPorch",
         "rawType": "int64",
         "type": "integer"
        },
        {
         "name": "3SsnPorch",
         "rawType": "int64",
         "type": "integer"
        },
        {
         "name": "ScreenPorch",
         "rawType": "int64",
         "type": "integer"
        },
        {
         "name": "PoolArea",
         "rawType": "int64",
         "type": "integer"
        },
        {
         "name": "PoolQC",
         "rawType": "object",
         "type": "unknown"
        },
        {
         "name": "Fence",
         "rawType": "object",
         "type": "unknown"
        },
        {
         "name": "MiscFeature",
         "rawType": "object",
         "type": "unknown"
        },
        {
         "name": "MiscVal",
         "rawType": "int64",
         "type": "integer"
        },
        {
         "name": "MoSold",
         "rawType": "int64",
         "type": "integer"
        },
        {
         "name": "YrSold",
         "rawType": "int64",
         "type": "integer"
        },
        {
         "name": "SaleType",
         "rawType": "object",
         "type": "string"
        },
        {
         "name": "SaleCondition",
         "rawType": "object",
         "type": "string"
        },
        {
         "name": "SalePrice",
         "rawType": "int64",
         "type": "integer"
        }
       ],
       "ref": "f4ffe0b2-8428-41f4-a9c1-8babea112b95",
       "rows": [
        [
         "0",
         "1",
         "60",
         "RL",
         "65.0",
         "8450",
         "Pave",
         null,
         "Reg",
         "Lvl",
         "AllPub",
         "Inside",
         "Gtl",
         "CollgCr",
         "Norm",
         "Norm",
         "1Fam",
         "2Story",
         "7",
         "5",
         "2003",
         "2003",
         "Gable",
         "CompShg",
         "VinylSd",
         "VinylSd",
         "BrkFace",
         "196.0",
         "Gd",
         "TA",
         "PConc",
         "Gd",
         "TA",
         "No",
         "GLQ",
         "706",
         "Unf",
         "0",
         "150",
         "856",
         "GasA",
         "Ex",
         "Y",
         "SBrkr",
         "856",
         "854",
         "0",
         "1710",
         "1",
         "0",
         "2",
         "1",
         "3",
         "1",
         "Gd",
         "8",
         "Typ",
         "0",
         null,
         "Attchd",
         "2003.0",
         "RFn",
         "2",
         "548",
         "TA",
         "TA",
         "Y",
         "0",
         "61",
         "0",
         "0",
         "0",
         "0",
         null,
         null,
         null,
         "0",
         "2",
         "2008",
         "WD",
         "Normal",
         "208500"
        ],
        [
         "1",
         "2",
         "20",
         "RL",
         "80.0",
         "9600",
         "Pave",
         null,
         "Reg",
         "Lvl",
         "AllPub",
         "FR2",
         "Gtl",
         "Veenker",
         "Feedr",
         "Norm",
         "1Fam",
         "1Story",
         "6",
         "8",
         "1976",
         "1976",
         "Gable",
         "CompShg",
         "MetalSd",
         "MetalSd",
         null,
         "0.0",
         "TA",
         "TA",
         "CBlock",
         "Gd",
         "TA",
         "Gd",
         "ALQ",
         "978",
         "Unf",
         "0",
         "284",
         "1262",
         "GasA",
         "Ex",
         "Y",
         "SBrkr",
         "1262",
         "0",
         "0",
         "1262",
         "0",
         "1",
         "2",
         "0",
         "3",
         "1",
         "TA",
         "6",
         "Typ",
         "1",
         "TA",
         "Attchd",
         "1976.0",
         "RFn",
         "2",
         "460",
         "TA",
         "TA",
         "Y",
         "298",
         "0",
         "0",
         "0",
         "0",
         "0",
         null,
         null,
         null,
         "0",
         "5",
         "2007",
         "WD",
         "Normal",
         "181500"
        ],
        [
         "2",
         "3",
         "60",
         "RL",
         "68.0",
         "11250",
         "Pave",
         null,
         "IR1",
         "Lvl",
         "AllPub",
         "Inside",
         "Gtl",
         "CollgCr",
         "Norm",
         "Norm",
         "1Fam",
         "2Story",
         "7",
         "5",
         "2001",
         "2002",
         "Gable",
         "CompShg",
         "VinylSd",
         "VinylSd",
         "BrkFace",
         "162.0",
         "Gd",
         "TA",
         "PConc",
         "Gd",
         "TA",
         "Mn",
         "GLQ",
         "486",
         "Unf",
         "0",
         "434",
         "920",
         "GasA",
         "Ex",
         "Y",
         "SBrkr",
         "920",
         "866",
         "0",
         "1786",
         "1",
         "0",
         "2",
         "1",
         "3",
         "1",
         "Gd",
         "6",
         "Typ",
         "1",
         "TA",
         "Attchd",
         "2001.0",
         "RFn",
         "2",
         "608",
         "TA",
         "TA",
         "Y",
         "0",
         "42",
         "0",
         "0",
         "0",
         "0",
         null,
         null,
         null,
         "0",
         "9",
         "2008",
         "WD",
         "Normal",
         "223500"
        ],
        [
         "3",
         "4",
         "70",
         "RL",
         "60.0",
         "9550",
         "Pave",
         null,
         "IR1",
         "Lvl",
         "AllPub",
         "Corner",
         "Gtl",
         "Crawfor",
         "Norm",
         "Norm",
         "1Fam",
         "2Story",
         "7",
         "5",
         "1915",
         "1970",
         "Gable",
         "CompShg",
         "Wd Sdng",
         "Wd Shng",
         null,
         "0.0",
         "TA",
         "TA",
         "BrkTil",
         "TA",
         "Gd",
         "No",
         "ALQ",
         "216",
         "Unf",
         "0",
         "540",
         "756",
         "GasA",
         "Gd",
         "Y",
         "SBrkr",
         "961",
         "756",
         "0",
         "1717",
         "1",
         "0",
         "1",
         "0",
         "3",
         "1",
         "Gd",
         "7",
         "Typ",
         "1",
         "Gd",
         "Detchd",
         "1998.0",
         "Unf",
         "3",
         "642",
         "TA",
         "TA",
         "Y",
         "0",
         "35",
         "272",
         "0",
         "0",
         "0",
         null,
         null,
         null,
         "0",
         "2",
         "2006",
         "WD",
         "Abnorml",
         "140000"
        ],
        [
         "4",
         "5",
         "60",
         "RL",
         "84.0",
         "14260",
         "Pave",
         null,
         "IR1",
         "Lvl",
         "AllPub",
         "FR2",
         "Gtl",
         "NoRidge",
         "Norm",
         "Norm",
         "1Fam",
         "2Story",
         "8",
         "5",
         "2000",
         "2000",
         "Gable",
         "CompShg",
         "VinylSd",
         "VinylSd",
         "BrkFace",
         "350.0",
         "Gd",
         "TA",
         "PConc",
         "Gd",
         "TA",
         "Av",
         "GLQ",
         "655",
         "Unf",
         "0",
         "490",
         "1145",
         "GasA",
         "Ex",
         "Y",
         "SBrkr",
         "1145",
         "1053",
         "0",
         "2198",
         "1",
         "0",
         "2",
         "1",
         "4",
         "1",
         "Gd",
         "9",
         "Typ",
         "1",
         "TA",
         "Attchd",
         "2000.0",
         "RFn",
         "3",
         "836",
         "TA",
         "TA",
         "Y",
         "192",
         "84",
         "0",
         "0",
         "0",
         "0",
         null,
         null,
         null,
         "0",
         "12",
         "2008",
         "WD",
         "Normal",
         "250000"
        ]
       ],
       "shape": {
        "columns": 81,
        "rows": 5
       }
      },
      "text/html": [
       "<div>\n",
       "<style scoped>\n",
       "    .dataframe tbody tr th:only-of-type {\n",
       "        vertical-align: middle;\n",
       "    }\n",
       "\n",
       "    .dataframe tbody tr th {\n",
       "        vertical-align: top;\n",
       "    }\n",
       "\n",
       "    .dataframe thead th {\n",
       "        text-align: right;\n",
       "    }\n",
       "</style>\n",
       "<table border=\"1\" class=\"dataframe\">\n",
       "  <thead>\n",
       "    <tr style=\"text-align: right;\">\n",
       "      <th></th>\n",
       "      <th>Id</th>\n",
       "      <th>MSSubClass</th>\n",
       "      <th>MSZoning</th>\n",
       "      <th>LotFrontage</th>\n",
       "      <th>LotArea</th>\n",
       "      <th>Street</th>\n",
       "      <th>Alley</th>\n",
       "      <th>LotShape</th>\n",
       "      <th>LandContour</th>\n",
       "      <th>Utilities</th>\n",
       "      <th>...</th>\n",
       "      <th>PoolArea</th>\n",
       "      <th>PoolQC</th>\n",
       "      <th>Fence</th>\n",
       "      <th>MiscFeature</th>\n",
       "      <th>MiscVal</th>\n",
       "      <th>MoSold</th>\n",
       "      <th>YrSold</th>\n",
       "      <th>SaleType</th>\n",
       "      <th>SaleCondition</th>\n",
       "      <th>SalePrice</th>\n",
       "    </tr>\n",
       "  </thead>\n",
       "  <tbody>\n",
       "    <tr>\n",
       "      <th>0</th>\n",
       "      <td>1</td>\n",
       "      <td>60</td>\n",
       "      <td>RL</td>\n",
       "      <td>65.0</td>\n",
       "      <td>8450</td>\n",
       "      <td>Pave</td>\n",
       "      <td>NaN</td>\n",
       "      <td>Reg</td>\n",
       "      <td>Lvl</td>\n",
       "      <td>AllPub</td>\n",
       "      <td>...</td>\n",
       "      <td>0</td>\n",
       "      <td>NaN</td>\n",
       "      <td>NaN</td>\n",
       "      <td>NaN</td>\n",
       "      <td>0</td>\n",
       "      <td>2</td>\n",
       "      <td>2008</td>\n",
       "      <td>WD</td>\n",
       "      <td>Normal</td>\n",
       "      <td>208500</td>\n",
       "    </tr>\n",
       "    <tr>\n",
       "      <th>1</th>\n",
       "      <td>2</td>\n",
       "      <td>20</td>\n",
       "      <td>RL</td>\n",
       "      <td>80.0</td>\n",
       "      <td>9600</td>\n",
       "      <td>Pave</td>\n",
       "      <td>NaN</td>\n",
       "      <td>Reg</td>\n",
       "      <td>Lvl</td>\n",
       "      <td>AllPub</td>\n",
       "      <td>...</td>\n",
       "      <td>0</td>\n",
       "      <td>NaN</td>\n",
       "      <td>NaN</td>\n",
       "      <td>NaN</td>\n",
       "      <td>0</td>\n",
       "      <td>5</td>\n",
       "      <td>2007</td>\n",
       "      <td>WD</td>\n",
       "      <td>Normal</td>\n",
       "      <td>181500</td>\n",
       "    </tr>\n",
       "    <tr>\n",
       "      <th>2</th>\n",
       "      <td>3</td>\n",
       "      <td>60</td>\n",
       "      <td>RL</td>\n",
       "      <td>68.0</td>\n",
       "      <td>11250</td>\n",
       "      <td>Pave</td>\n",
       "      <td>NaN</td>\n",
       "      <td>IR1</td>\n",
       "      <td>Lvl</td>\n",
       "      <td>AllPub</td>\n",
       "      <td>...</td>\n",
       "      <td>0</td>\n",
       "      <td>NaN</td>\n",
       "      <td>NaN</td>\n",
       "      <td>NaN</td>\n",
       "      <td>0</td>\n",
       "      <td>9</td>\n",
       "      <td>2008</td>\n",
       "      <td>WD</td>\n",
       "      <td>Normal</td>\n",
       "      <td>223500</td>\n",
       "    </tr>\n",
       "    <tr>\n",
       "      <th>3</th>\n",
       "      <td>4</td>\n",
       "      <td>70</td>\n",
       "      <td>RL</td>\n",
       "      <td>60.0</td>\n",
       "      <td>9550</td>\n",
       "      <td>Pave</td>\n",
       "      <td>NaN</td>\n",
       "      <td>IR1</td>\n",
       "      <td>Lvl</td>\n",
       "      <td>AllPub</td>\n",
       "      <td>...</td>\n",
       "      <td>0</td>\n",
       "      <td>NaN</td>\n",
       "      <td>NaN</td>\n",
       "      <td>NaN</td>\n",
       "      <td>0</td>\n",
       "      <td>2</td>\n",
       "      <td>2006</td>\n",
       "      <td>WD</td>\n",
       "      <td>Abnorml</td>\n",
       "      <td>140000</td>\n",
       "    </tr>\n",
       "    <tr>\n",
       "      <th>4</th>\n",
       "      <td>5</td>\n",
       "      <td>60</td>\n",
       "      <td>RL</td>\n",
       "      <td>84.0</td>\n",
       "      <td>14260</td>\n",
       "      <td>Pave</td>\n",
       "      <td>NaN</td>\n",
       "      <td>IR1</td>\n",
       "      <td>Lvl</td>\n",
       "      <td>AllPub</td>\n",
       "      <td>...</td>\n",
       "      <td>0</td>\n",
       "      <td>NaN</td>\n",
       "      <td>NaN</td>\n",
       "      <td>NaN</td>\n",
       "      <td>0</td>\n",
       "      <td>12</td>\n",
       "      <td>2008</td>\n",
       "      <td>WD</td>\n",
       "      <td>Normal</td>\n",
       "      <td>250000</td>\n",
       "    </tr>\n",
       "  </tbody>\n",
       "</table>\n",
       "<p>5 rows × 81 columns</p>\n",
       "</div>"
      ],
      "text/plain": [
       "   Id  MSSubClass MSZoning  LotFrontage  LotArea Street Alley LotShape  \\\n",
       "0   1          60       RL         65.0     8450   Pave   NaN      Reg   \n",
       "1   2          20       RL         80.0     9600   Pave   NaN      Reg   \n",
       "2   3          60       RL         68.0    11250   Pave   NaN      IR1   \n",
       "3   4          70       RL         60.0     9550   Pave   NaN      IR1   \n",
       "4   5          60       RL         84.0    14260   Pave   NaN      IR1   \n",
       "\n",
       "  LandContour Utilities  ... PoolArea PoolQC Fence MiscFeature MiscVal MoSold  \\\n",
       "0         Lvl    AllPub  ...        0    NaN   NaN         NaN       0      2   \n",
       "1         Lvl    AllPub  ...        0    NaN   NaN         NaN       0      5   \n",
       "2         Lvl    AllPub  ...        0    NaN   NaN         NaN       0      9   \n",
       "3         Lvl    AllPub  ...        0    NaN   NaN         NaN       0      2   \n",
       "4         Lvl    AllPub  ...        0    NaN   NaN         NaN       0     12   \n",
       "\n",
       "  YrSold  SaleType  SaleCondition  SalePrice  \n",
       "0   2008        WD         Normal     208500  \n",
       "1   2007        WD         Normal     181500  \n",
       "2   2008        WD         Normal     223500  \n",
       "3   2006        WD        Abnorml     140000  \n",
       "4   2008        WD         Normal     250000  \n",
       "\n",
       "[5 rows x 81 columns]"
      ]
     },
     "execution_count": 23,
     "metadata": {},
     "output_type": "execute_result"
    }
   ],
   "source": [
    "train_data.head()"
   ]
  },
  {
   "cell_type": "markdown",
   "id": "b269a3ce",
   "metadata": {},
   "source": [
    "## Data Cleanup"
   ]
  },
  {
   "cell_type": "markdown",
   "id": "160bc452",
   "metadata": {},
   "source": [
    "### We need to find columns with one or missing values and deal with them according to their data type"
   ]
  },
  {
   "cell_type": "code",
   "execution_count": 24,
   "id": "1f70cb5c",
   "metadata": {},
   "outputs": [],
   "source": [
    "def get_missing_values(data):\n",
    "    return train_data.columns[train_data.isnull().any()]"
   ]
  },
  {
   "cell_type": "code",
   "execution_count": 25,
   "id": "93c2a318",
   "metadata": {},
   "outputs": [],
   "source": [
    "def clean_up_data(data):\n",
    "    cols_with_missing_vals = get_missing_values(data)\n",
    "    for col in cols_with_missing_vals:\n",
    "        if col in ['LotFrontage', 'MasVnrArea']:\n",
    "            data[col] = data[col].fillna(0)\n",
    "        elif col == 'GarageYrBlt':\n",
    "            data[col] = data[col].fillna(data['GarageYrBlt'].median())\n",
    "        elif data[col].dtype == 'object':\n",
    "            data[col] = data[col].fillna('none')\n",
    "    return data"
   ]
  },
  {
   "cell_type": "code",
   "execution_count": 26,
   "id": "d4fea628",
   "metadata": {},
   "outputs": [],
   "source": [
    "cleaned_train_data = clean_up_data(train_data)\n",
    "cleaned_test_data = clean_up_data(test_data)"
   ]
  },
  {
   "cell_type": "markdown",
   "id": "0fb92617",
   "metadata": {},
   "source": [
    "### Data Cleanup is done. Lets see how we can handle columns having categorical data before forming the model"
   ]
  },
  {
   "cell_type": "markdown",
   "id": "9a118ef5",
   "metadata": {},
   "source": [
    "## Cleaned up Data"
   ]
  },
  {
   "cell_type": "code",
   "execution_count": 27,
   "id": "12ae6857",
   "metadata": {},
   "outputs": [
    {
     "name": "stdout",
     "output_type": "stream",
     "text": [
      "Shape of the cleaned training data: (1460, 81)\n",
      "Shape of the cleaned test data: (1459, 80)\n"
     ]
    }
   ],
   "source": [
    "print(f\"Shape of the cleaned training data: {cleaned_train_data.shape}\")\n",
    "print(f\"Shape of the cleaned test data: {cleaned_test_data.shape}\")"
   ]
  },
  {
   "cell_type": "markdown",
   "id": "6fc91365",
   "metadata": {},
   "source": [
    "## Categorical Data Handling"
   ]
  },
  {
   "cell_type": "markdown",
   "id": "46877273",
   "metadata": {},
   "source": [
    "### Dummy encoding all categroical columns"
   ]
  },
  {
   "cell_type": "code",
   "execution_count": 28,
   "id": "704af942",
   "metadata": {},
   "outputs": [
    {
     "name": "stdout",
     "output_type": "stream",
     "text": [
      "Shape of the encoded data: (1460, 262)\n",
      "Shape of the test data: (1459, 227)\n"
     ]
    },
    {
     "data": {
      "application/vnd.microsoft.datawrangler.viewer.v0+json": {
       "columns": [
        {
         "name": "index",
         "rawType": "int64",
         "type": "integer"
        },
        {
         "name": "Id",
         "rawType": "int64",
         "type": "integer"
        },
        {
         "name": "MSSubClass",
         "rawType": "int64",
         "type": "integer"
        },
        {
         "name": "LotFrontage",
         "rawType": "float64",
         "type": "float"
        },
        {
         "name": "LotArea",
         "rawType": "int64",
         "type": "integer"
        },
        {
         "name": "OverallQual",
         "rawType": "int64",
         "type": "integer"
        },
        {
         "name": "OverallCond",
         "rawType": "int64",
         "type": "integer"
        },
        {
         "name": "YearBuilt",
         "rawType": "int64",
         "type": "integer"
        },
        {
         "name": "YearRemodAdd",
         "rawType": "int64",
         "type": "integer"
        },
        {
         "name": "MasVnrArea",
         "rawType": "float64",
         "type": "float"
        },
        {
         "name": "BsmtFinSF1",
         "rawType": "int64",
         "type": "integer"
        },
        {
         "name": "BsmtFinSF2",
         "rawType": "int64",
         "type": "integer"
        },
        {
         "name": "BsmtUnfSF",
         "rawType": "int64",
         "type": "integer"
        },
        {
         "name": "TotalBsmtSF",
         "rawType": "int64",
         "type": "integer"
        },
        {
         "name": "1stFlrSF",
         "rawType": "int64",
         "type": "integer"
        },
        {
         "name": "2ndFlrSF",
         "rawType": "int64",
         "type": "integer"
        },
        {
         "name": "LowQualFinSF",
         "rawType": "int64",
         "type": "integer"
        },
        {
         "name": "GrLivArea",
         "rawType": "int64",
         "type": "integer"
        },
        {
         "name": "BsmtFullBath",
         "rawType": "int64",
         "type": "integer"
        },
        {
         "name": "BsmtHalfBath",
         "rawType": "int64",
         "type": "integer"
        },
        {
         "name": "FullBath",
         "rawType": "int64",
         "type": "integer"
        },
        {
         "name": "HalfBath",
         "rawType": "int64",
         "type": "integer"
        },
        {
         "name": "BedroomAbvGr",
         "rawType": "int64",
         "type": "integer"
        },
        {
         "name": "KitchenAbvGr",
         "rawType": "int64",
         "type": "integer"
        },
        {
         "name": "TotRmsAbvGrd",
         "rawType": "int64",
         "type": "integer"
        },
        {
         "name": "Fireplaces",
         "rawType": "int64",
         "type": "integer"
        },
        {
         "name": "GarageYrBlt",
         "rawType": "float64",
         "type": "float"
        },
        {
         "name": "GarageCars",
         "rawType": "int64",
         "type": "integer"
        },
        {
         "name": "GarageArea",
         "rawType": "int64",
         "type": "integer"
        },
        {
         "name": "WoodDeckSF",
         "rawType": "int64",
         "type": "integer"
        },
        {
         "name": "OpenPorchSF",
         "rawType": "int64",
         "type": "integer"
        },
        {
         "name": "EnclosedPorch",
         "rawType": "int64",
         "type": "integer"
        },
        {
         "name": "3SsnPorch",
         "rawType": "int64",
         "type": "integer"
        },
        {
         "name": "ScreenPorch",
         "rawType": "int64",
         "type": "integer"
        },
        {
         "name": "PoolArea",
         "rawType": "int64",
         "type": "integer"
        },
        {
         "name": "MiscVal",
         "rawType": "int64",
         "type": "integer"
        },
        {
         "name": "MoSold",
         "rawType": "int64",
         "type": "integer"
        },
        {
         "name": "YrSold",
         "rawType": "int64",
         "type": "integer"
        },
        {
         "name": "SalePrice",
         "rawType": "int64",
         "type": "integer"
        },
        {
         "name": "MSZoning_FV",
         "rawType": "bool",
         "type": "boolean"
        },
        {
         "name": "MSZoning_RH",
         "rawType": "bool",
         "type": "boolean"
        },
        {
         "name": "MSZoning_RL",
         "rawType": "bool",
         "type": "boolean"
        },
        {
         "name": "MSZoning_RM",
         "rawType": "bool",
         "type": "boolean"
        },
        {
         "name": "Street_Pave",
         "rawType": "bool",
         "type": "boolean"
        },
        {
         "name": "Alley_Pave",
         "rawType": "bool",
         "type": "boolean"
        },
        {
         "name": "Alley_none",
         "rawType": "bool",
         "type": "boolean"
        },
        {
         "name": "LotShape_IR2",
         "rawType": "bool",
         "type": "boolean"
        },
        {
         "name": "LotShape_IR3",
         "rawType": "bool",
         "type": "boolean"
        },
        {
         "name": "LotShape_Reg",
         "rawType": "bool",
         "type": "boolean"
        },
        {
         "name": "LandContour_HLS",
         "rawType": "bool",
         "type": "boolean"
        },
        {
         "name": "LandContour_Low",
         "rawType": "bool",
         "type": "boolean"
        },
        {
         "name": "LandContour_Lvl",
         "rawType": "bool",
         "type": "boolean"
        },
        {
         "name": "Utilities_NoSeWa",
         "rawType": "bool",
         "type": "boolean"
        },
        {
         "name": "LotConfig_CulDSac",
         "rawType": "bool",
         "type": "boolean"
        },
        {
         "name": "LotConfig_FR2",
         "rawType": "bool",
         "type": "boolean"
        },
        {
         "name": "LotConfig_FR3",
         "rawType": "bool",
         "type": "boolean"
        },
        {
         "name": "LotConfig_Inside",
         "rawType": "bool",
         "type": "boolean"
        },
        {
         "name": "LandSlope_Mod",
         "rawType": "bool",
         "type": "boolean"
        },
        {
         "name": "LandSlope_Sev",
         "rawType": "bool",
         "type": "boolean"
        },
        {
         "name": "Neighborhood_Blueste",
         "rawType": "bool",
         "type": "boolean"
        },
        {
         "name": "Neighborhood_BrDale",
         "rawType": "bool",
         "type": "boolean"
        },
        {
         "name": "Neighborhood_BrkSide",
         "rawType": "bool",
         "type": "boolean"
        },
        {
         "name": "Neighborhood_ClearCr",
         "rawType": "bool",
         "type": "boolean"
        },
        {
         "name": "Neighborhood_CollgCr",
         "rawType": "bool",
         "type": "boolean"
        },
        {
         "name": "Neighborhood_Crawfor",
         "rawType": "bool",
         "type": "boolean"
        },
        {
         "name": "Neighborhood_Edwards",
         "rawType": "bool",
         "type": "boolean"
        },
        {
         "name": "Neighborhood_Gilbert",
         "rawType": "bool",
         "type": "boolean"
        },
        {
         "name": "Neighborhood_IDOTRR",
         "rawType": "bool",
         "type": "boolean"
        },
        {
         "name": "Neighborhood_MeadowV",
         "rawType": "bool",
         "type": "boolean"
        },
        {
         "name": "Neighborhood_Mitchel",
         "rawType": "bool",
         "type": "boolean"
        },
        {
         "name": "Neighborhood_NAmes",
         "rawType": "bool",
         "type": "boolean"
        },
        {
         "name": "Neighborhood_NPkVill",
         "rawType": "bool",
         "type": "boolean"
        },
        {
         "name": "Neighborhood_NWAmes",
         "rawType": "bool",
         "type": "boolean"
        },
        {
         "name": "Neighborhood_NoRidge",
         "rawType": "bool",
         "type": "boolean"
        },
        {
         "name": "Neighborhood_NridgHt",
         "rawType": "bool",
         "type": "boolean"
        },
        {
         "name": "Neighborhood_OldTown",
         "rawType": "bool",
         "type": "boolean"
        },
        {
         "name": "Neighborhood_SWISU",
         "rawType": "bool",
         "type": "boolean"
        },
        {
         "name": "Neighborhood_Sawyer",
         "rawType": "bool",
         "type": "boolean"
        },
        {
         "name": "Neighborhood_SawyerW",
         "rawType": "bool",
         "type": "boolean"
        },
        {
         "name": "Neighborhood_Somerst",
         "rawType": "bool",
         "type": "boolean"
        },
        {
         "name": "Neighborhood_StoneBr",
         "rawType": "bool",
         "type": "boolean"
        },
        {
         "name": "Neighborhood_Timber",
         "rawType": "bool",
         "type": "boolean"
        },
        {
         "name": "Neighborhood_Veenker",
         "rawType": "bool",
         "type": "boolean"
        },
        {
         "name": "Condition1_Feedr",
         "rawType": "bool",
         "type": "boolean"
        },
        {
         "name": "Condition1_Norm",
         "rawType": "bool",
         "type": "boolean"
        },
        {
         "name": "Condition1_PosA",
         "rawType": "bool",
         "type": "boolean"
        },
        {
         "name": "Condition1_PosN",
         "rawType": "bool",
         "type": "boolean"
        },
        {
         "name": "Condition1_RRAe",
         "rawType": "bool",
         "type": "boolean"
        },
        {
         "name": "Condition1_RRAn",
         "rawType": "bool",
         "type": "boolean"
        },
        {
         "name": "Condition1_RRNe",
         "rawType": "bool",
         "type": "boolean"
        },
        {
         "name": "Condition1_RRNn",
         "rawType": "bool",
         "type": "boolean"
        },
        {
         "name": "Condition2_Feedr",
         "rawType": "bool",
         "type": "boolean"
        },
        {
         "name": "Condition2_Norm",
         "rawType": "bool",
         "type": "boolean"
        },
        {
         "name": "Condition2_PosA",
         "rawType": "bool",
         "type": "boolean"
        },
        {
         "name": "Condition2_PosN",
         "rawType": "bool",
         "type": "boolean"
        },
        {
         "name": "Condition2_RRAe",
         "rawType": "bool",
         "type": "boolean"
        },
        {
         "name": "Condition2_RRAn",
         "rawType": "bool",
         "type": "boolean"
        },
        {
         "name": "Condition2_RRNn",
         "rawType": "bool",
         "type": "boolean"
        },
        {
         "name": "BldgType_2fmCon",
         "rawType": "bool",
         "type": "boolean"
        },
        {
         "name": "BldgType_Duplex",
         "rawType": "bool",
         "type": "boolean"
        },
        {
         "name": "BldgType_Twnhs",
         "rawType": "bool",
         "type": "boolean"
        },
        {
         "name": "BldgType_TwnhsE",
         "rawType": "bool",
         "type": "boolean"
        },
        {
         "name": "HouseStyle_1.5Unf",
         "rawType": "bool",
         "type": "boolean"
        },
        {
         "name": "HouseStyle_1Story",
         "rawType": "bool",
         "type": "boolean"
        },
        {
         "name": "HouseStyle_2.5Fin",
         "rawType": "bool",
         "type": "boolean"
        },
        {
         "name": "HouseStyle_2.5Unf",
         "rawType": "bool",
         "type": "boolean"
        },
        {
         "name": "HouseStyle_2Story",
         "rawType": "bool",
         "type": "boolean"
        },
        {
         "name": "HouseStyle_SFoyer",
         "rawType": "bool",
         "type": "boolean"
        },
        {
         "name": "HouseStyle_SLvl",
         "rawType": "bool",
         "type": "boolean"
        },
        {
         "name": "RoofStyle_Gable",
         "rawType": "bool",
         "type": "boolean"
        },
        {
         "name": "RoofStyle_Gambrel",
         "rawType": "bool",
         "type": "boolean"
        },
        {
         "name": "RoofStyle_Hip",
         "rawType": "bool",
         "type": "boolean"
        },
        {
         "name": "RoofStyle_Mansard",
         "rawType": "bool",
         "type": "boolean"
        },
        {
         "name": "RoofStyle_Shed",
         "rawType": "bool",
         "type": "boolean"
        },
        {
         "name": "RoofMatl_CompShg",
         "rawType": "bool",
         "type": "boolean"
        },
        {
         "name": "RoofMatl_Membran",
         "rawType": "bool",
         "type": "boolean"
        },
        {
         "name": "RoofMatl_Metal",
         "rawType": "bool",
         "type": "boolean"
        },
        {
         "name": "RoofMatl_Roll",
         "rawType": "bool",
         "type": "boolean"
        },
        {
         "name": "RoofMatl_Tar&Grv",
         "rawType": "bool",
         "type": "boolean"
        },
        {
         "name": "RoofMatl_WdShake",
         "rawType": "bool",
         "type": "boolean"
        },
        {
         "name": "RoofMatl_WdShngl",
         "rawType": "bool",
         "type": "boolean"
        },
        {
         "name": "Exterior1st_AsphShn",
         "rawType": "bool",
         "type": "boolean"
        },
        {
         "name": "Exterior1st_BrkComm",
         "rawType": "bool",
         "type": "boolean"
        },
        {
         "name": "Exterior1st_BrkFace",
         "rawType": "bool",
         "type": "boolean"
        },
        {
         "name": "Exterior1st_CBlock",
         "rawType": "bool",
         "type": "boolean"
        },
        {
         "name": "Exterior1st_CemntBd",
         "rawType": "bool",
         "type": "boolean"
        },
        {
         "name": "Exterior1st_HdBoard",
         "rawType": "bool",
         "type": "boolean"
        },
        {
         "name": "Exterior1st_ImStucc",
         "rawType": "bool",
         "type": "boolean"
        },
        {
         "name": "Exterior1st_MetalSd",
         "rawType": "bool",
         "type": "boolean"
        },
        {
         "name": "Exterior1st_Plywood",
         "rawType": "bool",
         "type": "boolean"
        },
        {
         "name": "Exterior1st_Stone",
         "rawType": "bool",
         "type": "boolean"
        },
        {
         "name": "Exterior1st_Stucco",
         "rawType": "bool",
         "type": "boolean"
        },
        {
         "name": "Exterior1st_VinylSd",
         "rawType": "bool",
         "type": "boolean"
        },
        {
         "name": "Exterior1st_Wd Sdng",
         "rawType": "bool",
         "type": "boolean"
        },
        {
         "name": "Exterior1st_WdShing",
         "rawType": "bool",
         "type": "boolean"
        },
        {
         "name": "Exterior2nd_AsphShn",
         "rawType": "bool",
         "type": "boolean"
        },
        {
         "name": "Exterior2nd_Brk Cmn",
         "rawType": "bool",
         "type": "boolean"
        },
        {
         "name": "Exterior2nd_BrkFace",
         "rawType": "bool",
         "type": "boolean"
        },
        {
         "name": "Exterior2nd_CBlock",
         "rawType": "bool",
         "type": "boolean"
        },
        {
         "name": "Exterior2nd_CmentBd",
         "rawType": "bool",
         "type": "boolean"
        },
        {
         "name": "Exterior2nd_HdBoard",
         "rawType": "bool",
         "type": "boolean"
        },
        {
         "name": "Exterior2nd_ImStucc",
         "rawType": "bool",
         "type": "boolean"
        },
        {
         "name": "Exterior2nd_MetalSd",
         "rawType": "bool",
         "type": "boolean"
        },
        {
         "name": "Exterior2nd_Other",
         "rawType": "bool",
         "type": "boolean"
        },
        {
         "name": "Exterior2nd_Plywood",
         "rawType": "bool",
         "type": "boolean"
        },
        {
         "name": "Exterior2nd_Stone",
         "rawType": "bool",
         "type": "boolean"
        },
        {
         "name": "Exterior2nd_Stucco",
         "rawType": "bool",
         "type": "boolean"
        },
        {
         "name": "Exterior2nd_VinylSd",
         "rawType": "bool",
         "type": "boolean"
        },
        {
         "name": "Exterior2nd_Wd Sdng",
         "rawType": "bool",
         "type": "boolean"
        },
        {
         "name": "Exterior2nd_Wd Shng",
         "rawType": "bool",
         "type": "boolean"
        },
        {
         "name": "MasVnrType_BrkFace",
         "rawType": "bool",
         "type": "boolean"
        },
        {
         "name": "MasVnrType_Stone",
         "rawType": "bool",
         "type": "boolean"
        },
        {
         "name": "MasVnrType_none",
         "rawType": "bool",
         "type": "boolean"
        },
        {
         "name": "ExterQual_Fa",
         "rawType": "bool",
         "type": "boolean"
        },
        {
         "name": "ExterQual_Gd",
         "rawType": "bool",
         "type": "boolean"
        },
        {
         "name": "ExterQual_TA",
         "rawType": "bool",
         "type": "boolean"
        },
        {
         "name": "ExterCond_Fa",
         "rawType": "bool",
         "type": "boolean"
        },
        {
         "name": "ExterCond_Gd",
         "rawType": "bool",
         "type": "boolean"
        },
        {
         "name": "ExterCond_Po",
         "rawType": "bool",
         "type": "boolean"
        },
        {
         "name": "ExterCond_TA",
         "rawType": "bool",
         "type": "boolean"
        },
        {
         "name": "Foundation_CBlock",
         "rawType": "bool",
         "type": "boolean"
        },
        {
         "name": "Foundation_PConc",
         "rawType": "bool",
         "type": "boolean"
        },
        {
         "name": "Foundation_Slab",
         "rawType": "bool",
         "type": "boolean"
        },
        {
         "name": "Foundation_Stone",
         "rawType": "bool",
         "type": "boolean"
        },
        {
         "name": "Foundation_Wood",
         "rawType": "bool",
         "type": "boolean"
        },
        {
         "name": "BsmtQual_Fa",
         "rawType": "bool",
         "type": "boolean"
        },
        {
         "name": "BsmtQual_Gd",
         "rawType": "bool",
         "type": "boolean"
        },
        {
         "name": "BsmtQual_TA",
         "rawType": "bool",
         "type": "boolean"
        },
        {
         "name": "BsmtQual_none",
         "rawType": "bool",
         "type": "boolean"
        },
        {
         "name": "BsmtCond_Gd",
         "rawType": "bool",
         "type": "boolean"
        },
        {
         "name": "BsmtCond_Po",
         "rawType": "bool",
         "type": "boolean"
        },
        {
         "name": "BsmtCond_TA",
         "rawType": "bool",
         "type": "boolean"
        },
        {
         "name": "BsmtCond_none",
         "rawType": "bool",
         "type": "boolean"
        },
        {
         "name": "BsmtExposure_Gd",
         "rawType": "bool",
         "type": "boolean"
        },
        {
         "name": "BsmtExposure_Mn",
         "rawType": "bool",
         "type": "boolean"
        },
        {
         "name": "BsmtExposure_No",
         "rawType": "bool",
         "type": "boolean"
        },
        {
         "name": "BsmtExposure_none",
         "rawType": "bool",
         "type": "boolean"
        },
        {
         "name": "BsmtFinType1_BLQ",
         "rawType": "bool",
         "type": "boolean"
        },
        {
         "name": "BsmtFinType1_GLQ",
         "rawType": "bool",
         "type": "boolean"
        },
        {
         "name": "BsmtFinType1_LwQ",
         "rawType": "bool",
         "type": "boolean"
        },
        {
         "name": "BsmtFinType1_Rec",
         "rawType": "bool",
         "type": "boolean"
        },
        {
         "name": "BsmtFinType1_Unf",
         "rawType": "bool",
         "type": "boolean"
        },
        {
         "name": "BsmtFinType1_none",
         "rawType": "bool",
         "type": "boolean"
        },
        {
         "name": "BsmtFinType2_BLQ",
         "rawType": "bool",
         "type": "boolean"
        },
        {
         "name": "BsmtFinType2_GLQ",
         "rawType": "bool",
         "type": "boolean"
        },
        {
         "name": "BsmtFinType2_LwQ",
         "rawType": "bool",
         "type": "boolean"
        },
        {
         "name": "BsmtFinType2_Rec",
         "rawType": "bool",
         "type": "boolean"
        },
        {
         "name": "BsmtFinType2_Unf",
         "rawType": "bool",
         "type": "boolean"
        },
        {
         "name": "BsmtFinType2_none",
         "rawType": "bool",
         "type": "boolean"
        },
        {
         "name": "Heating_GasA",
         "rawType": "bool",
         "type": "boolean"
        },
        {
         "name": "Heating_GasW",
         "rawType": "bool",
         "type": "boolean"
        },
        {
         "name": "Heating_Grav",
         "rawType": "bool",
         "type": "boolean"
        },
        {
         "name": "Heating_OthW",
         "rawType": "bool",
         "type": "boolean"
        },
        {
         "name": "Heating_Wall",
         "rawType": "bool",
         "type": "boolean"
        },
        {
         "name": "HeatingQC_Fa",
         "rawType": "bool",
         "type": "boolean"
        },
        {
         "name": "HeatingQC_Gd",
         "rawType": "bool",
         "type": "boolean"
        },
        {
         "name": "HeatingQC_Po",
         "rawType": "bool",
         "type": "boolean"
        },
        {
         "name": "HeatingQC_TA",
         "rawType": "bool",
         "type": "boolean"
        },
        {
         "name": "CentralAir_Y",
         "rawType": "bool",
         "type": "boolean"
        },
        {
         "name": "Electrical_FuseF",
         "rawType": "bool",
         "type": "boolean"
        },
        {
         "name": "Electrical_FuseP",
         "rawType": "bool",
         "type": "boolean"
        },
        {
         "name": "Electrical_Mix",
         "rawType": "bool",
         "type": "boolean"
        },
        {
         "name": "Electrical_SBrkr",
         "rawType": "bool",
         "type": "boolean"
        },
        {
         "name": "Electrical_none",
         "rawType": "bool",
         "type": "boolean"
        },
        {
         "name": "KitchenQual_Fa",
         "rawType": "bool",
         "type": "boolean"
        },
        {
         "name": "KitchenQual_Gd",
         "rawType": "bool",
         "type": "boolean"
        },
        {
         "name": "KitchenQual_TA",
         "rawType": "bool",
         "type": "boolean"
        },
        {
         "name": "Functional_Maj2",
         "rawType": "bool",
         "type": "boolean"
        },
        {
         "name": "Functional_Min1",
         "rawType": "bool",
         "type": "boolean"
        },
        {
         "name": "Functional_Min2",
         "rawType": "bool",
         "type": "boolean"
        },
        {
         "name": "Functional_Mod",
         "rawType": "bool",
         "type": "boolean"
        },
        {
         "name": "Functional_Sev",
         "rawType": "bool",
         "type": "boolean"
        },
        {
         "name": "Functional_Typ",
         "rawType": "bool",
         "type": "boolean"
        },
        {
         "name": "FireplaceQu_Fa",
         "rawType": "bool",
         "type": "boolean"
        },
        {
         "name": "FireplaceQu_Gd",
         "rawType": "bool",
         "type": "boolean"
        },
        {
         "name": "FireplaceQu_Po",
         "rawType": "bool",
         "type": "boolean"
        },
        {
         "name": "FireplaceQu_TA",
         "rawType": "bool",
         "type": "boolean"
        },
        {
         "name": "FireplaceQu_none",
         "rawType": "bool",
         "type": "boolean"
        },
        {
         "name": "GarageType_Attchd",
         "rawType": "bool",
         "type": "boolean"
        },
        {
         "name": "GarageType_Basment",
         "rawType": "bool",
         "type": "boolean"
        },
        {
         "name": "GarageType_BuiltIn",
         "rawType": "bool",
         "type": "boolean"
        },
        {
         "name": "GarageType_CarPort",
         "rawType": "bool",
         "type": "boolean"
        },
        {
         "name": "GarageType_Detchd",
         "rawType": "bool",
         "type": "boolean"
        },
        {
         "name": "GarageType_none",
         "rawType": "bool",
         "type": "boolean"
        },
        {
         "name": "GarageFinish_RFn",
         "rawType": "bool",
         "type": "boolean"
        },
        {
         "name": "GarageFinish_Unf",
         "rawType": "bool",
         "type": "boolean"
        },
        {
         "name": "GarageFinish_none",
         "rawType": "bool",
         "type": "boolean"
        },
        {
         "name": "GarageQual_Fa",
         "rawType": "bool",
         "type": "boolean"
        },
        {
         "name": "GarageQual_Gd",
         "rawType": "bool",
         "type": "boolean"
        },
        {
         "name": "GarageQual_Po",
         "rawType": "bool",
         "type": "boolean"
        },
        {
         "name": "GarageQual_TA",
         "rawType": "bool",
         "type": "boolean"
        },
        {
         "name": "GarageQual_none",
         "rawType": "bool",
         "type": "boolean"
        },
        {
         "name": "GarageCond_Fa",
         "rawType": "bool",
         "type": "boolean"
        },
        {
         "name": "GarageCond_Gd",
         "rawType": "bool",
         "type": "boolean"
        },
        {
         "name": "GarageCond_Po",
         "rawType": "bool",
         "type": "boolean"
        },
        {
         "name": "GarageCond_TA",
         "rawType": "bool",
         "type": "boolean"
        },
        {
         "name": "GarageCond_none",
         "rawType": "bool",
         "type": "boolean"
        },
        {
         "name": "PavedDrive_P",
         "rawType": "bool",
         "type": "boolean"
        },
        {
         "name": "PavedDrive_Y",
         "rawType": "bool",
         "type": "boolean"
        },
        {
         "name": "PoolQC_Fa",
         "rawType": "bool",
         "type": "boolean"
        },
        {
         "name": "PoolQC_Gd",
         "rawType": "bool",
         "type": "boolean"
        },
        {
         "name": "PoolQC_none",
         "rawType": "bool",
         "type": "boolean"
        },
        {
         "name": "Fence_GdWo",
         "rawType": "bool",
         "type": "boolean"
        },
        {
         "name": "Fence_MnPrv",
         "rawType": "bool",
         "type": "boolean"
        },
        {
         "name": "Fence_MnWw",
         "rawType": "bool",
         "type": "boolean"
        },
        {
         "name": "Fence_none",
         "rawType": "bool",
         "type": "boolean"
        },
        {
         "name": "MiscFeature_Othr",
         "rawType": "bool",
         "type": "boolean"
        },
        {
         "name": "MiscFeature_Shed",
         "rawType": "bool",
         "type": "boolean"
        },
        {
         "name": "MiscFeature_TenC",
         "rawType": "bool",
         "type": "boolean"
        },
        {
         "name": "MiscFeature_none",
         "rawType": "bool",
         "type": "boolean"
        },
        {
         "name": "SaleType_CWD",
         "rawType": "bool",
         "type": "boolean"
        },
        {
         "name": "SaleType_Con",
         "rawType": "bool",
         "type": "boolean"
        },
        {
         "name": "SaleType_ConLD",
         "rawType": "bool",
         "type": "boolean"
        },
        {
         "name": "SaleType_ConLI",
         "rawType": "bool",
         "type": "boolean"
        },
        {
         "name": "SaleType_ConLw",
         "rawType": "bool",
         "type": "boolean"
        },
        {
         "name": "SaleType_New",
         "rawType": "bool",
         "type": "boolean"
        },
        {
         "name": "SaleType_Oth",
         "rawType": "bool",
         "type": "boolean"
        },
        {
         "name": "SaleType_WD",
         "rawType": "bool",
         "type": "boolean"
        },
        {
         "name": "SaleCondition_AdjLand",
         "rawType": "bool",
         "type": "boolean"
        },
        {
         "name": "SaleCondition_Alloca",
         "rawType": "bool",
         "type": "boolean"
        },
        {
         "name": "SaleCondition_Family",
         "rawType": "bool",
         "type": "boolean"
        },
        {
         "name": "SaleCondition_Normal",
         "rawType": "bool",
         "type": "boolean"
        },
        {
         "name": "SaleCondition_Partial",
         "rawType": "bool",
         "type": "boolean"
        }
       ],
       "ref": "5097e0f0-2e40-4fb9-b820-112726fd5a30",
       "rows": [
        [
         "0",
         "1",
         "60",
         "65.0",
         "8450",
         "7",
         "5",
         "2003",
         "2003",
         "196.0",
         "706",
         "0",
         "150",
         "856",
         "856",
         "854",
         "0",
         "1710",
         "1",
         "0",
         "2",
         "1",
         "3",
         "1",
         "8",
         "0",
         "2003.0",
         "2",
         "548",
         "0",
         "61",
         "0",
         "0",
         "0",
         "0",
         "0",
         "2",
         "2008",
         "208500",
         "False",
         "False",
         "True",
         "False",
         "True",
         "False",
         "True",
         "False",
         "False",
         "True",
         "False",
         "False",
         "True",
         "False",
         "False",
         "False",
         "False",
         "True",
         "False",
         "False",
         "False",
         "False",
         "False",
         "False",
         "True",
         "False",
         "False",
         "False",
         "False",
         "False",
         "False",
         "False",
         "False",
         "False",
         "False",
         "False",
         "False",
         "False",
         "False",
         "False",
         "False",
         "False",
         "False",
         "False",
         "False",
         "True",
         "False",
         "False",
         "False",
         "False",
         "False",
         "False",
         "False",
         "True",
         "False",
         "False",
         "False",
         "False",
         "False",
         "False",
         "False",
         "False",
         "False",
         "False",
         "False",
         "False",
         "False",
         "True",
         "False",
         "False",
         "True",
         "False",
         "False",
         "False",
         "False",
         "True",
         "False",
         "False",
         "False",
         "False",
         "False",
         "False",
         "False",
         "False",
         "False",
         "False",
         "False",
         "False",
         "False",
         "False",
         "False",
         "False",
         "False",
         "True",
         "False",
         "False",
         "False",
         "False",
         "False",
         "False",
         "False",
         "False",
         "False",
         "False",
         "False",
         "False",
         "False",
         "False",
         "True",
         "False",
         "False",
         "True",
         "False",
         "False",
         "False",
         "True",
         "False",
         "False",
         "False",
         "False",
         "True",
         "False",
         "True",
         "False",
         "False",
         "False",
         "False",
         "True",
         "False",
         "False",
         "False",
         "False",
         "True",
         "False",
         "False",
         "False",
         "True",
         "False",
         "False",
         "True",
         "False",
         "False",
         "False",
         "False",
         "False",
         "False",
         "False",
         "False",
         "True",
         "False",
         "True",
         "False",
         "False",
         "False",
         "False",
         "False",
         "False",
         "False",
         "False",
         "True",
         "False",
         "False",
         "False",
         "True",
         "False",
         "False",
         "True",
         "False",
         "False",
         "False",
         "False",
         "False",
         "False",
         "True",
         "False",
         "False",
         "False",
         "False",
         "True",
         "True",
         "False",
         "False",
         "False",
         "False",
         "False",
         "True",
         "False",
         "False",
         "False",
         "False",
         "False",
         "True",
         "False",
         "False",
         "False",
         "False",
         "True",
         "False",
         "False",
         "True",
         "False",
         "False",
         "True",
         "False",
         "False",
         "False",
         "True",
         "False",
         "False",
         "False",
         "True",
         "False",
         "False",
         "False",
         "False",
         "False",
         "False",
         "False",
         "True",
         "False",
         "False",
         "False",
         "True",
         "False"
        ],
        [
         "1",
         "2",
         "20",
         "80.0",
         "9600",
         "6",
         "8",
         "1976",
         "1976",
         "0.0",
         "978",
         "0",
         "284",
         "1262",
         "1262",
         "0",
         "0",
         "1262",
         "0",
         "1",
         "2",
         "0",
         "3",
         "1",
         "6",
         "1",
         "1976.0",
         "2",
         "460",
         "298",
         "0",
         "0",
         "0",
         "0",
         "0",
         "0",
         "5",
         "2007",
         "181500",
         "False",
         "False",
         "True",
         "False",
         "True",
         "False",
         "True",
         "False",
         "False",
         "True",
         "False",
         "False",
         "True",
         "False",
         "False",
         "True",
         "False",
         "False",
         "False",
         "False",
         "False",
         "False",
         "False",
         "False",
         "False",
         "False",
         "False",
         "False",
         "False",
         "False",
         "False",
         "False",
         "False",
         "False",
         "False",
         "False",
         "False",
         "False",
         "False",
         "False",
         "False",
         "False",
         "False",
         "True",
         "True",
         "False",
         "False",
         "False",
         "False",
         "False",
         "False",
         "False",
         "False",
         "True",
         "False",
         "False",
         "False",
         "False",
         "False",
         "False",
         "False",
         "False",
         "False",
         "False",
         "True",
         "False",
         "False",
         "False",
         "False",
         "False",
         "True",
         "False",
         "False",
         "False",
         "False",
         "True",
         "False",
         "False",
         "False",
         "False",
         "False",
         "False",
         "False",
         "False",
         "False",
         "False",
         "False",
         "False",
         "False",
         "True",
         "False",
         "False",
         "False",
         "False",
         "False",
         "False",
         "False",
         "False",
         "False",
         "False",
         "False",
         "False",
         "False",
         "True",
         "False",
         "False",
         "False",
         "False",
         "False",
         "False",
         "False",
         "False",
         "False",
         "True",
         "False",
         "False",
         "True",
         "False",
         "False",
         "False",
         "True",
         "True",
         "False",
         "False",
         "False",
         "False",
         "False",
         "True",
         "False",
         "False",
         "False",
         "False",
         "True",
         "False",
         "True",
         "False",
         "False",
         "False",
         "False",
         "False",
         "False",
         "False",
         "False",
         "False",
         "False",
         "False",
         "False",
         "False",
         "True",
         "False",
         "True",
         "False",
         "False",
         "False",
         "False",
         "False",
         "False",
         "False",
         "False",
         "True",
         "False",
         "False",
         "False",
         "True",
         "False",
         "False",
         "False",
         "True",
         "False",
         "False",
         "False",
         "False",
         "False",
         "True",
         "False",
         "False",
         "False",
         "True",
         "False",
         "True",
         "False",
         "False",
         "False",
         "False",
         "False",
         "True",
         "False",
         "False",
         "False",
         "False",
         "False",
         "True",
         "False",
         "False",
         "False",
         "False",
         "True",
         "False",
         "False",
         "True",
         "False",
         "False",
         "True",
         "False",
         "False",
         "False",
         "True",
         "False",
         "False",
         "False",
         "True",
         "False",
         "False",
         "False",
         "False",
         "False",
         "False",
         "False",
         "True",
         "False",
         "False",
         "False",
         "True",
         "False"
        ],
        [
         "2",
         "3",
         "60",
         "68.0",
         "11250",
         "7",
         "5",
         "2001",
         "2002",
         "162.0",
         "486",
         "0",
         "434",
         "920",
         "920",
         "866",
         "0",
         "1786",
         "1",
         "0",
         "2",
         "1",
         "3",
         "1",
         "6",
         "1",
         "2001.0",
         "2",
         "608",
         "0",
         "42",
         "0",
         "0",
         "0",
         "0",
         "0",
         "9",
         "2008",
         "223500",
         "False",
         "False",
         "True",
         "False",
         "True",
         "False",
         "True",
         "False",
         "False",
         "False",
         "False",
         "False",
         "True",
         "False",
         "False",
         "False",
         "False",
         "True",
         "False",
         "False",
         "False",
         "False",
         "False",
         "False",
         "True",
         "False",
         "False",
         "False",
         "False",
         "False",
         "False",
         "False",
         "False",
         "False",
         "False",
         "False",
         "False",
         "False",
         "False",
         "False",
         "False",
         "False",
         "False",
         "False",
         "False",
         "True",
         "False",
         "False",
         "False",
         "False",
         "False",
         "False",
         "False",
         "True",
         "False",
         "False",
         "False",
         "False",
         "False",
         "False",
         "False",
         "False",
         "False",
         "False",
         "False",
         "False",
         "False",
         "True",
         "False",
         "False",
         "True",
         "False",
         "False",
         "False",
         "False",
         "True",
         "False",
         "False",
         "False",
         "False",
         "False",
         "False",
         "False",
         "False",
         "False",
         "False",
         "False",
         "False",
         "False",
         "False",
         "False",
         "False",
         "False",
         "True",
         "False",
         "False",
         "False",
         "False",
         "False",
         "False",
         "False",
         "False",
         "False",
         "False",
         "False",
         "False",
         "False",
         "False",
         "True",
         "False",
         "False",
         "True",
         "False",
         "False",
         "False",
         "True",
         "False",
         "False",
         "False",
         "False",
         "True",
         "False",
         "True",
         "False",
         "False",
         "False",
         "False",
         "True",
         "False",
         "False",
         "False",
         "False",
         "True",
         "False",
         "False",
         "True",
         "False",
         "False",
         "False",
         "True",
         "False",
         "False",
         "False",
         "False",
         "False",
         "False",
         "False",
         "False",
         "True",
         "False",
         "True",
         "False",
         "False",
         "False",
         "False",
         "False",
         "False",
         "False",
         "False",
         "True",
         "False",
         "False",
         "False",
         "True",
         "False",
         "False",
         "True",
         "False",
         "False",
         "False",
         "False",
         "False",
         "False",
         "True",
         "False",
         "False",
         "False",
         "True",
         "False",
         "True",
         "False",
         "False",
         "False",
         "False",
         "False",
         "True",
         "False",
         "False",
         "False",
         "False",
         "False",
         "True",
         "False",
         "False",
         "False",
         "False",
         "True",
         "False",
         "False",
         "True",
         "False",
         "False",
         "True",
         "False",
         "False",
         "False",
         "True",
         "False",
         "False",
         "False",
         "True",
         "False",
         "False",
         "False",
         "False",
         "False",
         "False",
         "False",
         "True",
         "False",
         "False",
         "False",
         "True",
         "False"
        ],
        [
         "3",
         "4",
         "70",
         "60.0",
         "9550",
         "7",
         "5",
         "1915",
         "1970",
         "0.0",
         "216",
         "0",
         "540",
         "756",
         "961",
         "756",
         "0",
         "1717",
         "1",
         "0",
         "1",
         "0",
         "3",
         "1",
         "7",
         "1",
         "1998.0",
         "3",
         "642",
         "0",
         "35",
         "272",
         "0",
         "0",
         "0",
         "0",
         "2",
         "2006",
         "140000",
         "False",
         "False",
         "True",
         "False",
         "True",
         "False",
         "True",
         "False",
         "False",
         "False",
         "False",
         "False",
         "True",
         "False",
         "False",
         "False",
         "False",
         "False",
         "False",
         "False",
         "False",
         "False",
         "False",
         "False",
         "False",
         "True",
         "False",
         "False",
         "False",
         "False",
         "False",
         "False",
         "False",
         "False",
         "False",
         "False",
         "False",
         "False",
         "False",
         "False",
         "False",
         "False",
         "False",
         "False",
         "False",
         "True",
         "False",
         "False",
         "False",
         "False",
         "False",
         "False",
         "False",
         "True",
         "False",
         "False",
         "False",
         "False",
         "False",
         "False",
         "False",
         "False",
         "False",
         "False",
         "False",
         "False",
         "False",
         "True",
         "False",
         "False",
         "True",
         "False",
         "False",
         "False",
         "False",
         "True",
         "False",
         "False",
         "False",
         "False",
         "False",
         "False",
         "False",
         "False",
         "False",
         "False",
         "False",
         "False",
         "False",
         "False",
         "False",
         "False",
         "False",
         "False",
         "True",
         "False",
         "False",
         "False",
         "False",
         "False",
         "False",
         "False",
         "False",
         "False",
         "False",
         "False",
         "False",
         "False",
         "False",
         "False",
         "True",
         "False",
         "False",
         "True",
         "False",
         "False",
         "True",
         "False",
         "False",
         "False",
         "True",
         "False",
         "False",
         "False",
         "False",
         "False",
         "False",
         "False",
         "True",
         "False",
         "True",
         "False",
         "False",
         "False",
         "False",
         "False",
         "True",
         "False",
         "False",
         "False",
         "False",
         "False",
         "False",
         "False",
         "False",
         "False",
         "False",
         "False",
         "True",
         "False",
         "True",
         "False",
         "False",
         "False",
         "False",
         "False",
         "True",
         "False",
         "False",
         "True",
         "False",
         "False",
         "False",
         "True",
         "False",
         "False",
         "True",
         "False",
         "False",
         "False",
         "False",
         "False",
         "False",
         "True",
         "False",
         "True",
         "False",
         "False",
         "False",
         "False",
         "False",
         "False",
         "False",
         "True",
         "False",
         "False",
         "True",
         "False",
         "False",
         "False",
         "False",
         "True",
         "False",
         "False",
         "False",
         "False",
         "True",
         "False",
         "False",
         "True",
         "False",
         "False",
         "True",
         "False",
         "False",
         "False",
         "True",
         "False",
         "False",
         "False",
         "True",
         "False",
         "False",
         "False",
         "False",
         "False",
         "False",
         "False",
         "True",
         "False",
         "False",
         "False",
         "False",
         "False"
        ],
        [
         "4",
         "5",
         "60",
         "84.0",
         "14260",
         "8",
         "5",
         "2000",
         "2000",
         "350.0",
         "655",
         "0",
         "490",
         "1145",
         "1145",
         "1053",
         "0",
         "2198",
         "1",
         "0",
         "2",
         "1",
         "4",
         "1",
         "9",
         "1",
         "2000.0",
         "3",
         "836",
         "192",
         "84",
         "0",
         "0",
         "0",
         "0",
         "0",
         "12",
         "2008",
         "250000",
         "False",
         "False",
         "True",
         "False",
         "True",
         "False",
         "True",
         "False",
         "False",
         "False",
         "False",
         "False",
         "True",
         "False",
         "False",
         "True",
         "False",
         "False",
         "False",
         "False",
         "False",
         "False",
         "False",
         "False",
         "False",
         "False",
         "False",
         "False",
         "False",
         "False",
         "False",
         "False",
         "False",
         "False",
         "True",
         "False",
         "False",
         "False",
         "False",
         "False",
         "False",
         "False",
         "False",
         "False",
         "False",
         "True",
         "False",
         "False",
         "False",
         "False",
         "False",
         "False",
         "False",
         "True",
         "False",
         "False",
         "False",
         "False",
         "False",
         "False",
         "False",
         "False",
         "False",
         "False",
         "False",
         "False",
         "False",
         "True",
         "False",
         "False",
         "True",
         "False",
         "False",
         "False",
         "False",
         "True",
         "False",
         "False",
         "False",
         "False",
         "False",
         "False",
         "False",
         "False",
         "False",
         "False",
         "False",
         "False",
         "False",
         "False",
         "False",
         "False",
         "False",
         "True",
         "False",
         "False",
         "False",
         "False",
         "False",
         "False",
         "False",
         "False",
         "False",
         "False",
         "False",
         "False",
         "False",
         "False",
         "True",
         "False",
         "False",
         "True",
         "False",
         "False",
         "False",
         "True",
         "False",
         "False",
         "False",
         "False",
         "True",
         "False",
         "True",
         "False",
         "False",
         "False",
         "False",
         "True",
         "False",
         "False",
         "False",
         "False",
         "True",
         "False",
         "False",
         "False",
         "False",
         "False",
         "False",
         "True",
         "False",
         "False",
         "False",
         "False",
         "False",
         "False",
         "False",
         "False",
         "True",
         "False",
         "True",
         "False",
         "False",
         "False",
         "False",
         "False",
         "False",
         "False",
         "False",
         "True",
         "False",
         "False",
         "False",
         "True",
         "False",
         "False",
         "True",
         "False",
         "False",
         "False",
         "False",
         "False",
         "False",
         "True",
         "False",
         "False",
         "False",
         "True",
         "False",
         "True",
         "False",
         "False",
         "False",
         "False",
         "False",
         "True",
         "False",
         "False",
         "False",
         "False",
         "False",
         "True",
         "False",
         "False",
         "False",
         "False",
         "True",
         "False",
         "False",
         "True",
         "False",
         "False",
         "True",
         "False",
         "False",
         "False",
         "True",
         "False",
         "False",
         "False",
         "True",
         "False",
         "False",
         "False",
         "False",
         "False",
         "False",
         "False",
         "True",
         "False",
         "False",
         "False",
         "True",
         "False"
        ]
       ],
       "shape": {
        "columns": 262,
        "rows": 5
       }
      },
      "text/html": [
       "<div>\n",
       "<style scoped>\n",
       "    .dataframe tbody tr th:only-of-type {\n",
       "        vertical-align: middle;\n",
       "    }\n",
       "\n",
       "    .dataframe tbody tr th {\n",
       "        vertical-align: top;\n",
       "    }\n",
       "\n",
       "    .dataframe thead th {\n",
       "        text-align: right;\n",
       "    }\n",
       "</style>\n",
       "<table border=\"1\" class=\"dataframe\">\n",
       "  <thead>\n",
       "    <tr style=\"text-align: right;\">\n",
       "      <th></th>\n",
       "      <th>Id</th>\n",
       "      <th>MSSubClass</th>\n",
       "      <th>LotFrontage</th>\n",
       "      <th>LotArea</th>\n",
       "      <th>OverallQual</th>\n",
       "      <th>OverallCond</th>\n",
       "      <th>YearBuilt</th>\n",
       "      <th>YearRemodAdd</th>\n",
       "      <th>MasVnrArea</th>\n",
       "      <th>BsmtFinSF1</th>\n",
       "      <th>...</th>\n",
       "      <th>SaleType_ConLI</th>\n",
       "      <th>SaleType_ConLw</th>\n",
       "      <th>SaleType_New</th>\n",
       "      <th>SaleType_Oth</th>\n",
       "      <th>SaleType_WD</th>\n",
       "      <th>SaleCondition_AdjLand</th>\n",
       "      <th>SaleCondition_Alloca</th>\n",
       "      <th>SaleCondition_Family</th>\n",
       "      <th>SaleCondition_Normal</th>\n",
       "      <th>SaleCondition_Partial</th>\n",
       "    </tr>\n",
       "  </thead>\n",
       "  <tbody>\n",
       "    <tr>\n",
       "      <th>0</th>\n",
       "      <td>1</td>\n",
       "      <td>60</td>\n",
       "      <td>65.0</td>\n",
       "      <td>8450</td>\n",
       "      <td>7</td>\n",
       "      <td>5</td>\n",
       "      <td>2003</td>\n",
       "      <td>2003</td>\n",
       "      <td>196.0</td>\n",
       "      <td>706</td>\n",
       "      <td>...</td>\n",
       "      <td>False</td>\n",
       "      <td>False</td>\n",
       "      <td>False</td>\n",
       "      <td>False</td>\n",
       "      <td>True</td>\n",
       "      <td>False</td>\n",
       "      <td>False</td>\n",
       "      <td>False</td>\n",
       "      <td>True</td>\n",
       "      <td>False</td>\n",
       "    </tr>\n",
       "    <tr>\n",
       "      <th>1</th>\n",
       "      <td>2</td>\n",
       "      <td>20</td>\n",
       "      <td>80.0</td>\n",
       "      <td>9600</td>\n",
       "      <td>6</td>\n",
       "      <td>8</td>\n",
       "      <td>1976</td>\n",
       "      <td>1976</td>\n",
       "      <td>0.0</td>\n",
       "      <td>978</td>\n",
       "      <td>...</td>\n",
       "      <td>False</td>\n",
       "      <td>False</td>\n",
       "      <td>False</td>\n",
       "      <td>False</td>\n",
       "      <td>True</td>\n",
       "      <td>False</td>\n",
       "      <td>False</td>\n",
       "      <td>False</td>\n",
       "      <td>True</td>\n",
       "      <td>False</td>\n",
       "    </tr>\n",
       "    <tr>\n",
       "      <th>2</th>\n",
       "      <td>3</td>\n",
       "      <td>60</td>\n",
       "      <td>68.0</td>\n",
       "      <td>11250</td>\n",
       "      <td>7</td>\n",
       "      <td>5</td>\n",
       "      <td>2001</td>\n",
       "      <td>2002</td>\n",
       "      <td>162.0</td>\n",
       "      <td>486</td>\n",
       "      <td>...</td>\n",
       "      <td>False</td>\n",
       "      <td>False</td>\n",
       "      <td>False</td>\n",
       "      <td>False</td>\n",
       "      <td>True</td>\n",
       "      <td>False</td>\n",
       "      <td>False</td>\n",
       "      <td>False</td>\n",
       "      <td>True</td>\n",
       "      <td>False</td>\n",
       "    </tr>\n",
       "    <tr>\n",
       "      <th>3</th>\n",
       "      <td>4</td>\n",
       "      <td>70</td>\n",
       "      <td>60.0</td>\n",
       "      <td>9550</td>\n",
       "      <td>7</td>\n",
       "      <td>5</td>\n",
       "      <td>1915</td>\n",
       "      <td>1970</td>\n",
       "      <td>0.0</td>\n",
       "      <td>216</td>\n",
       "      <td>...</td>\n",
       "      <td>False</td>\n",
       "      <td>False</td>\n",
       "      <td>False</td>\n",
       "      <td>False</td>\n",
       "      <td>True</td>\n",
       "      <td>False</td>\n",
       "      <td>False</td>\n",
       "      <td>False</td>\n",
       "      <td>False</td>\n",
       "      <td>False</td>\n",
       "    </tr>\n",
       "    <tr>\n",
       "      <th>4</th>\n",
       "      <td>5</td>\n",
       "      <td>60</td>\n",
       "      <td>84.0</td>\n",
       "      <td>14260</td>\n",
       "      <td>8</td>\n",
       "      <td>5</td>\n",
       "      <td>2000</td>\n",
       "      <td>2000</td>\n",
       "      <td>350.0</td>\n",
       "      <td>655</td>\n",
       "      <td>...</td>\n",
       "      <td>False</td>\n",
       "      <td>False</td>\n",
       "      <td>False</td>\n",
       "      <td>False</td>\n",
       "      <td>True</td>\n",
       "      <td>False</td>\n",
       "      <td>False</td>\n",
       "      <td>False</td>\n",
       "      <td>True</td>\n",
       "      <td>False</td>\n",
       "    </tr>\n",
       "  </tbody>\n",
       "</table>\n",
       "<p>5 rows × 262 columns</p>\n",
       "</div>"
      ],
      "text/plain": [
       "   Id  MSSubClass  LotFrontage  LotArea  OverallQual  OverallCond  YearBuilt  \\\n",
       "0   1          60         65.0     8450            7            5       2003   \n",
       "1   2          20         80.0     9600            6            8       1976   \n",
       "2   3          60         68.0    11250            7            5       2001   \n",
       "3   4          70         60.0     9550            7            5       1915   \n",
       "4   5          60         84.0    14260            8            5       2000   \n",
       "\n",
       "   YearRemodAdd  MasVnrArea  BsmtFinSF1  ...  SaleType_ConLI  SaleType_ConLw  \\\n",
       "0          2003       196.0         706  ...           False           False   \n",
       "1          1976         0.0         978  ...           False           False   \n",
       "2          2002       162.0         486  ...           False           False   \n",
       "3          1970         0.0         216  ...           False           False   \n",
       "4          2000       350.0         655  ...           False           False   \n",
       "\n",
       "   SaleType_New  SaleType_Oth  SaleType_WD  SaleCondition_AdjLand  \\\n",
       "0         False         False         True                  False   \n",
       "1         False         False         True                  False   \n",
       "2         False         False         True                  False   \n",
       "3         False         False         True                  False   \n",
       "4         False         False         True                  False   \n",
       "\n",
       "   SaleCondition_Alloca  SaleCondition_Family  SaleCondition_Normal  \\\n",
       "0                 False                 False                  True   \n",
       "1                 False                 False                  True   \n",
       "2                 False                 False                  True   \n",
       "3                 False                 False                 False   \n",
       "4                 False                 False                  True   \n",
       "\n",
       "   SaleCondition_Partial  \n",
       "0                  False  \n",
       "1                  False  \n",
       "2                  False  \n",
       "3                  False  \n",
       "4                  False  \n",
       "\n",
       "[5 rows x 262 columns]"
      ]
     },
     "execution_count": 28,
     "metadata": {},
     "output_type": "execute_result"
    }
   ],
   "source": [
    "train_data_encoded = pd.get_dummies(cleaned_train_data, drop_first=True)\n",
    "test_data_encoded = pd.get_dummies(cleaned_test_data, drop_first=True)\n",
    "print(f\"Shape of the encoded data: {train_data_encoded.shape}\")\n",
    "print(f\"Shape of the test data: {test_data_encoded.shape}\")\n",
    "train_data_encoded.head()"
   ]
  },
  {
   "cell_type": "markdown",
   "id": "e7172341",
   "metadata": {},
   "source": [
    "## Calculating correlations of all features to SalePrice"
   ]
  },
  {
   "cell_type": "code",
   "execution_count": 29,
   "id": "e74e3005",
   "metadata": {},
   "outputs": [
    {
     "name": "stdout",
     "output_type": "stream",
     "text": [
      "Summary of correlations with SalePrice:\n",
      "count    261.000000\n",
      "mean       0.028009\n",
      "std        0.208026\n",
      "min       -0.589044\n",
      "25%       -0.083399\n",
      "50%       -0.016754\n",
      "75%        0.105222\n",
      "max        0.790982\n",
      "dtype: float64\n"
     ]
    },
    {
     "name": "stderr",
     "output_type": "stream",
     "text": [
      "Locator attempting to generate 1305 ticks ([-0.4, ..., 260.40000000000003]), which exceeds Locator.MAXTICKS (1000).\n",
      "Locator attempting to generate 1305 ticks ([-0.4, ..., 260.40000000000003]), which exceeds Locator.MAXTICKS (1000).\n",
      "Locator attempting to generate 1305 ticks ([-0.4, ..., 260.40000000000003]), which exceeds Locator.MAXTICKS (1000).\n",
      "Locator attempting to generate 1305 ticks ([-0.4, ..., 260.40000000000003]), which exceeds Locator.MAXTICKS (1000).\n",
      "Locator attempting to generate 1305 ticks ([-0.4, ..., 260.40000000000003]), which exceeds Locator.MAXTICKS (1000).\n",
      "Locator attempting to generate 1305 ticks ([-0.4, ..., 260.40000000000003]), which exceeds Locator.MAXTICKS (1000).\n",
      "Locator attempting to generate 1305 ticks ([-0.4, ..., 260.40000000000003]), which exceeds Locator.MAXTICKS (1000).\n",
      "Locator attempting to generate 1305 ticks ([-0.4, ..., 260.40000000000003]), which exceeds Locator.MAXTICKS (1000).\n",
      "Locator attempting to generate 1305 ticks ([-0.4, ..., 260.40000000000003]), which exceeds Locator.MAXTICKS (1000).\n",
      "Locator attempting to generate 1305 ticks ([-0.4, ..., 260.40000000000003]), which exceeds Locator.MAXTICKS (1000).\n",
      "Locator attempting to generate 1305 ticks ([-0.4, ..., 260.40000000000003]), which exceeds Locator.MAXTICKS (1000).\n",
      "Locator attempting to generate 1305 ticks ([-0.4, ..., 260.40000000000003]), which exceeds Locator.MAXTICKS (1000).\n"
     ]
    },
    {
     "data": {
      "image/png": "[encoded data removed]",
      "text/plain": [
       "<Figure size 7500x2500 with 1 Axes>"
      ]
     },
     "metadata": {},
     "output_type": "display_data"
    }
   ],
   "source": [
    "features_df = train_data_encoded.drop(columns=['SalePrice'])\n",
    "target_df = train_data_encoded['SalePrice']\n",
    "correlations_with_price = features_df.corrwith(target_df).sort_values(ascending=False)\n",
    "print(\"Summary of correlations with SalePrice:\")\n",
    "print(correlations_with_price.describe())\n",
    "plt.figure(figsize=(75, 25))\n",
    "correlations_with_price.plot(kind='bar')\n",
    "plt.title('Correlation of Features with SalePrice')\n",
    "plt.grid(axis='y')\n",
    "plt.yticks(fontsize=10)\n",
    "plt.axhline(0, color='black', linestyle='--')\n",
    "plt.grid(axis='y', which='both', linestyle=':')\n",
    "plt.minorticks_on()\n",
    "plt.xlabel('Features')\n",
    "plt.xticks(rotation=45)\n",
    "plt.ylabel('Correlation Coefficient')\n",
    "plt.show()"
   ]
  },
  {
   "cell_type": "markdown",
   "id": "5d12a96a",
   "metadata": {},
   "source": [
    "## Dropping all features having correlation value less than a certain threshold"
   ]
  },
  {
   "cell_type": "code",
   "execution_count": 30,
   "id": "fe60bf4b",
   "metadata": {},
   "outputs": [
    {
     "name": "stdout",
     "output_type": "stream",
     "text": [
      "Features to drop: ['Heating_GasA', 'PoolArea', 'MSZoning_FV', 'BsmtCond_Gd', 'Exterior2nd_ImStucc', 'Neighborhood_CollgCr', 'MiscFeature_none', 'Neighborhood_Crawfor', 'Neighborhood_Veenker', 'Neighborhood_ClearCr', 'Condition1_PosN', 'Condition2_PosN', 'Condition2_PosA', 'MoSold', 'LandContour_Low', 'Exterior2nd_Other', 'RoofMatl_WdShake', '3SsnPorch', 'BsmtExposure_Mn', 'GarageQual_Gd', 'LandSlope_Mod', 'Condition1_PosA', 'SaleType_Con', 'Street_Pave', 'LotShape_IR3', 'HouseStyle_2.5Fin', 'Exterior1st_Stone', 'Neighborhood_Gilbert', 'Exterior1st_BrkFace', 'Condition2_Norm', 'LandSlope_Sev', 'Exterior1st_ImStucc', 'Exterior2nd_BrkFace', 'Neighborhood_NWAmes', 'Condition1_RRNn', 'MiscFeature_TenC', 'RoofStyle_Shed', 'RoofMatl_Membran', 'SaleType_CWD', 'LotConfig_FR3', 'PoolQC_Fa', 'Neighborhood_SawyerW', 'SaleType_ConLI', 'PoolQC_Gd', 'Condition1_RRAn', 'RoofMatl_Tar&Grv', 'Condition1_RRNe', 'BldgType_TwnhsE', 'Condition2_RRAe', 'Foundation_Wood', 'BsmtFinType2_GLQ', 'RoofMatl_Metal', 'RoofStyle_Mansard', 'GarageCond_Gd', 'Electrical_none', 'LotConfig_FR2', 'BsmtFinSF2', 'Foundation_Stone', 'Utilities_NoSeWa', 'RoofMatl_Roll', 'Condition2_RRAn', 'SaleCondition_Alloca', 'Functional_Mod', 'Exterior2nd_Stone', 'BsmtHalfBath', 'Functional_Sev', 'Exterior1st_Plywood', 'Heating_GasW', 'Neighborhood_Blueste', 'MiscVal', 'Id', 'Exterior2nd_AsphShn', 'Exterior2nd_CBlock', 'Exterior1st_CBlock', 'LowQualFinSF', 'Heating_OthW', 'HouseStyle_2.5Unf', 'FireplaceQu_Fa', 'Exterior1st_AsphShn', 'SaleType_ConLw', 'LandContour_Lvl', 'Alley_Pave', 'YrSold', 'GarageType_Basment', 'Exterior1st_Stucco', 'HeatingQC_Po', 'ExterCond_Po', 'SaleType_Oth', 'RoofStyle_Gambrel', 'Electrical_Mix', 'BsmtFinType2_LwQ', 'Neighborhood_NPkVill', 'HouseStyle_SLvl', 'Condition2_RRNn', 'BsmtFinType2_Rec', 'Exterior2nd_Wd Shng', 'MiscFeature_Othr', 'SaleType_ConLD', 'Exterior2nd_Stucco', 'GarageQual_Po', 'SaleCondition_Family', 'Condition1_RRAe', 'Exterior2nd_Brk Cmn', 'Electrical_FuseP', 'Condition2_Feedr', 'ExterCond_Gd', 'SaleCondition_AdjLand', 'Fence_MnWw', 'Exterior1st_BrkComm', 'Exterior1st_WdShing', 'Exterior2nd_Plywood', 'BsmtCond_Po', 'BsmtFinType2_BLQ', 'Neighborhood_Mitchel', 'Heating_Wall', 'HouseStyle_1Story', 'GarageCond_Po', 'Neighborhood_SWISU', 'Functional_Min1', 'MSZoning_RH', 'Exterior2nd_HdBoard', 'MiscFeature_Shed', 'Functional_Maj2', 'GarageType_CarPort', 'Functional_Min2', 'FireplaceQu_Po', 'OverallCond', 'LotConfig_Inside', 'BsmtFinType1_Unf', 'MSSubClass', 'BsmtFinType1_LwQ', 'HouseStyle_1.5Unf', 'PavedDrive_P', 'Heating_Grav', 'HouseStyle_SFoyer', 'PoolQC_none', 'Exterior1st_HdBoard', 'BldgType_2fmCon', 'BldgType_Twnhs', 'Fence_GdWo', 'Neighborhood_BrDale', 'RoofMatl_CompShg', 'Neighborhood_MeadowV', 'BldgType_Duplex', 'ExterQual_Fa', 'Condition1_Feedr', 'Foundation_Slab', 'Electrical_FuseF', 'Neighborhood_Sawyer', 'EnclosedPorch', 'BsmtQual_Fa', 'GarageCond_Fa', 'BsmtFinType1_BLQ', 'GarageQual_Fa', 'HeatingQC_Fa', 'HeatingQC_Gd', 'BsmtFinType1_Rec', 'KitchenAbvGr', 'ExterCond_Fa', 'Fence_MnPrv', 'Neighborhood_BrkSide', 'BsmtFinType2_none']\n",
      "Shape of features after dropping low correlation features: (1460, 99)\n"
     ]
    }
   ],
   "source": [
    "# lets drop all the features with correlation less than 0.1 or greater than -0.05\n",
    "features_to_drop = correlations_with_price[(correlations_with_price < 0.1) & (correlations_with_price > -0.15)].index.tolist()\n",
    "print(f\"Features to drop: {features_to_drop}\")\n",
    "features_df = features_df.drop(columns=features_to_drop)\n",
    "print(f\"Shape of features after dropping low correlation features: {features_df.shape}\")"
   ]
  },
  {
   "cell_type": "markdown",
   "id": "0187449f",
   "metadata": {},
   "source": [
    "## Starting to model now"
   ]
  },
  {
   "cell_type": "markdown",
   "id": "3fc2ea7d",
   "metadata": {},
   "source": [
    "### Scaling Training Data"
   ]
  },
  {
   "cell_type": "code",
   "execution_count": 31,
   "id": "cbbb5dae",
   "metadata": {},
   "outputs": [],
   "source": [
    "scaler = StandardScaler()\n",
    "scaler.fit(features_df)\n",
    "scaled_features = scaler.transform(features_df)\n",
    "scaled_features_df = pd.DataFrame(scaled_features, columns=features_df.columns)"
   ]
  },
  {
   "cell_type": "code",
   "execution_count": 32,
   "id": "a0e25cda",
   "metadata": {},
   "outputs": [
    {
     "name": "stdout",
     "output_type": "stream",
     "text": [
      "Model training completed.\n"
     ]
    }
   ],
   "source": [
    "model = RandomForestRegressor()\n",
    "model.fit(scaled_features_df, target_df)\n",
    "print(\"Model training completed.\")"
   ]
  },
  {
   "cell_type": "markdown",
   "id": "2642f4ca",
   "metadata": {},
   "source": [
    "## Predicting Test Data"
   ]
  },
  {
   "cell_type": "markdown",
   "id": "50888783",
   "metadata": {},
   "source": [
    "### Equalising columns in encoded test data and feature dataset"
   ]
  },
  {
   "cell_type": "code",
   "execution_count": 33,
   "id": "4c3971d7",
   "metadata": {},
   "outputs": [
    {
     "data": {
      "application/vnd.microsoft.datawrangler.viewer.v0+json": {
       "columns": [
        {
         "name": "index",
         "rawType": "int64",
         "type": "integer"
        },
        {
         "name": "Id",
         "rawType": "int64",
         "type": "integer"
        },
        {
         "name": "MSSubClass",
         "rawType": "int64",
         "type": "integer"
        },
        {
         "name": "MSZoning",
         "rawType": "object",
         "type": "string"
        },
        {
         "name": "LotFrontage",
         "rawType": "float64",
         "type": "float"
        },
        {
         "name": "LotArea",
         "rawType": "int64",
         "type": "integer"
        },
        {
         "name": "Street",
         "rawType": "object",
         "type": "string"
        },
        {
         "name": "Alley",
         "rawType": "object",
         "type": "unknown"
        },
        {
         "name": "LotShape",
         "rawType": "object",
         "type": "string"
        },
        {
         "name": "LandContour",
         "rawType": "object",
         "type": "string"
        },
        {
         "name": "Utilities",
         "rawType": "object",
         "type": "string"
        },
        {
         "name": "LotConfig",
         "rawType": "object",
         "type": "string"
        },
        {
         "name": "LandSlope",
         "rawType": "object",
         "type": "string"
        },
        {
         "name": "Neighborhood",
         "rawType": "object",
         "type": "string"
        },
        {
         "name": "Condition1",
         "rawType": "object",
         "type": "string"
        },
        {
         "name": "Condition2",
         "rawType": "object",
         "type": "string"
        },
        {
         "name": "BldgType",
         "rawType": "object",
         "type": "string"
        },
        {
         "name": "HouseStyle",
         "rawType": "object",
         "type": "string"
        },
        {
         "name": "OverallQual",
         "rawType": "int64",
         "type": "integer"
        },
        {
         "name": "OverallCond",
         "rawType": "int64",
         "type": "integer"
        },
        {
         "name": "YearBuilt",
         "rawType": "int64",
         "type": "integer"
        },
        {
         "name": "YearRemodAdd",
         "rawType": "int64",
         "type": "integer"
        },
        {
         "name": "RoofStyle",
         "rawType": "object",
         "type": "string"
        },
        {
         "name": "RoofMatl",
         "rawType": "object",
         "type": "string"
        },
        {
         "name": "Exterior1st",
         "rawType": "object",
         "type": "string"
        },
        {
         "name": "Exterior2nd",
         "rawType": "object",
         "type": "string"
        },
        {
         "name": "MasVnrType",
         "rawType": "object",
         "type": "unknown"
        },
        {
         "name": "MasVnrArea",
         "rawType": "float64",
         "type": "float"
        },
        {
         "name": "ExterQual",
         "rawType": "object",
         "type": "string"
        },
        {
         "name": "ExterCond",
         "rawType": "object",
         "type": "string"
        },
        {
         "name": "Foundation",
         "rawType": "object",
         "type": "string"
        },
        {
         "name": "BsmtQual",
         "rawType": "object",
         "type": "string"
        },
        {
         "name": "BsmtCond",
         "rawType": "object",
         "type": "string"
        },
        {
         "name": "BsmtExposure",
         "rawType": "object",
         "type": "string"
        },
        {
         "name": "BsmtFinType1",
         "rawType": "object",
         "type": "string"
        },
        {
         "name": "BsmtFinSF1",
         "rawType": "float64",
         "type": "float"
        },
        {
         "name": "BsmtFinType2",
         "rawType": "object",
         "type": "string"
        },
        {
         "name": "BsmtFinSF2",
         "rawType": "float64",
         "type": "float"
        },
        {
         "name": "BsmtUnfSF",
         "rawType": "float64",
         "type": "float"
        },
        {
         "name": "TotalBsmtSF",
         "rawType": "float64",
         "type": "float"
        },
        {
         "name": "Heating",
         "rawType": "object",
         "type": "string"
        },
        {
         "name": "HeatingQC",
         "rawType": "object",
         "type": "string"
        },
        {
         "name": "CentralAir",
         "rawType": "object",
         "type": "string"
        },
        {
         "name": "Electrical",
         "rawType": "object",
         "type": "string"
        },
        {
         "name": "1stFlrSF",
         "rawType": "int64",
         "type": "integer"
        },
        {
         "name": "2ndFlrSF",
         "rawType": "int64",
         "type": "integer"
        },
        {
         "name": "LowQualFinSF",
         "rawType": "int64",
         "type": "integer"
        },
        {
         "name": "GrLivArea",
         "rawType": "int64",
         "type": "integer"
        },
        {
         "name": "BsmtFullBath",
         "rawType": "float64",
         "type": "float"
        },
        {
         "name": "BsmtHalfBath",
         "rawType": "float64",
         "type": "float"
        },
        {
         "name": "FullBath",
         "rawType": "int64",
         "type": "integer"
        },
        {
         "name": "HalfBath",
         "rawType": "int64",
         "type": "integer"
        },
        {
         "name": "BedroomAbvGr",
         "rawType": "int64",
         "type": "integer"
        },
        {
         "name": "KitchenAbvGr",
         "rawType": "int64",
         "type": "integer"
        },
        {
         "name": "KitchenQual",
         "rawType": "object",
         "type": "string"
        },
        {
         "name": "TotRmsAbvGrd",
         "rawType": "int64",
         "type": "integer"
        },
        {
         "name": "Functional",
         "rawType": "object",
         "type": "string"
        },
        {
         "name": "Fireplaces",
         "rawType": "int64",
         "type": "integer"
        },
        {
         "name": "FireplaceQu",
         "rawType": "object",
         "type": "unknown"
        },
        {
         "name": "GarageType",
         "rawType": "object",
         "type": "string"
        },
        {
         "name": "GarageYrBlt",
         "rawType": "float64",
         "type": "float"
        },
        {
         "name": "GarageFinish",
         "rawType": "object",
         "type": "string"
        },
        {
         "name": "GarageCars",
         "rawType": "float64",
         "type": "float"
        },
        {
         "name": "GarageArea",
         "rawType": "float64",
         "type": "float"
        },
        {
         "name": "GarageQual",
         "rawType": "object",
         "type": "string"
        },
        {
         "name": "GarageCond",
         "rawType": "object",
         "type": "string"
        },
        {
         "name": "PavedDrive",
         "rawType": "object",
         "type": "string"
        },
        {
         "name": "WoodDeckSF",
         "rawType": "int64",
         "type": "integer"
        },
        {
         "name": "OpenPorchSF",
         "rawType": "int64",
         "type": "integer"
        },
        {
         "name": "EnclosedPorch",
         "rawType": "int64",
         "type": "integer"
        },
        {
         "name": "3SsnPorch",
         "rawType": "int64",
         "type": "integer"
        },
        {
         "name": "ScreenPorch",
         "rawType": "int64",
         "type": "integer"
        },
        {
         "name": "PoolArea",
         "rawType": "int64",
         "type": "integer"
        },
        {
         "name": "PoolQC",
         "rawType": "object",
         "type": "unknown"
        },
        {
         "name": "Fence",
         "rawType": "object",
         "type": "unknown"
        },
        {
         "name": "MiscFeature",
         "rawType": "object",
         "type": "unknown"
        },
        {
         "name": "MiscVal",
         "rawType": "int64",
         "type": "integer"
        },
        {
         "name": "MoSold",
         "rawType": "int64",
         "type": "integer"
        },
        {
         "name": "YrSold",
         "rawType": "int64",
         "type": "integer"
        },
        {
         "name": "SaleType",
         "rawType": "object",
         "type": "string"
        },
        {
         "name": "SaleCondition",
         "rawType": "object",
         "type": "string"
        }
       ],
       "ref": "a98a05e4-5e99-430b-a5fb-57a7440c3c07",
       "rows": [
        [
         "0",
         "1461",
         "20",
         "RH",
         "80.0",
         "11622",
         "Pave",
         null,
         "Reg",
         "Lvl",
         "AllPub",
         "Inside",
         "Gtl",
         "NAmes",
         "Feedr",
         "Norm",
         "1Fam",
         "1Story",
         "5",
         "6",
         "1961",
         "1961",
         "Gable",
         "CompShg",
         "VinylSd",
         "VinylSd",
         null,
         "0.0",
         "TA",
         "TA",
         "CBlock",
         "TA",
         "TA",
         "No",
         "Rec",
         "468.0",
         "LwQ",
         "144.0",
         "270.0",
         "882.0",
         "GasA",
         "TA",
         "Y",
         "SBrkr",
         "896",
         "0",
         "0",
         "896",
         "0.0",
         "0.0",
         "1",
         "0",
         "2",
         "1",
         "TA",
         "5",
         "Typ",
         "0",
         null,
         "Attchd",
         "1961.0",
         "Unf",
         "1.0",
         "730.0",
         "TA",
         "TA",
         "Y",
         "140",
         "0",
         "0",
         "0",
         "120",
         "0",
         null,
         "MnPrv",
         null,
         "0",
         "6",
         "2010",
         "WD",
         "Normal"
        ],
        [
         "1",
         "1462",
         "20",
         "RL",
         "81.0",
         "14267",
         "Pave",
         null,
         "IR1",
         "Lvl",
         "AllPub",
         "Corner",
         "Gtl",
         "NAmes",
         "Norm",
         "Norm",
         "1Fam",
         "1Story",
         "6",
         "6",
         "1958",
         "1958",
         "Hip",
         "CompShg",
         "Wd Sdng",
         "Wd Sdng",
         "BrkFace",
         "108.0",
         "TA",
         "TA",
         "CBlock",
         "TA",
         "TA",
         "No",
         "ALQ",
         "923.0",
         "Unf",
         "0.0",
         "406.0",
         "1329.0",
         "GasA",
         "TA",
         "Y",
         "SBrkr",
         "1329",
         "0",
         "0",
         "1329",
         "0.0",
         "0.0",
         "1",
         "1",
         "3",
         "1",
         "Gd",
         "6",
         "Typ",
         "0",
         null,
         "Attchd",
         "1958.0",
         "Unf",
         "1.0",
         "312.0",
         "TA",
         "TA",
         "Y",
         "393",
         "36",
         "0",
         "0",
         "0",
         "0",
         null,
         null,
         "Gar2",
         "12500",
         "6",
         "2010",
         "WD",
         "Normal"
        ],
        [
         "2",
         "1463",
         "60",
         "RL",
         "74.0",
         "13830",
         "Pave",
         null,
         "IR1",
         "Lvl",
         "AllPub",
         "Inside",
         "Gtl",
         "Gilbert",
         "Norm",
         "Norm",
         "1Fam",
         "2Story",
         "5",
         "5",
         "1997",
         "1998",
         "Gable",
         "CompShg",
         "VinylSd",
         "VinylSd",
         null,
         "0.0",
         "TA",
         "TA",
         "PConc",
         "Gd",
         "TA",
         "No",
         "GLQ",
         "791.0",
         "Unf",
         "0.0",
         "137.0",
         "928.0",
         "GasA",
         "Gd",
         "Y",
         "SBrkr",
         "928",
         "701",
         "0",
         "1629",
         "0.0",
         "0.0",
         "2",
         "1",
         "3",
         "1",
         "TA",
         "6",
         "Typ",
         "1",
         "TA",
         "Attchd",
         "1997.0",
         "Fin",
         "2.0",
         "482.0",
         "TA",
         "TA",
         "Y",
         "212",
         "34",
         "0",
         "0",
         "0",
         "0",
         null,
         "MnPrv",
         null,
         "0",
         "3",
         "2010",
         "WD",
         "Normal"
        ],
        [
         "3",
         "1464",
         "60",
         "RL",
         "78.0",
         "9978",
         "Pave",
         null,
         "IR1",
         "Lvl",
         "AllPub",
         "Inside",
         "Gtl",
         "Gilbert",
         "Norm",
         "Norm",
         "1Fam",
         "2Story",
         "6",
         "6",
         "1998",
         "1998",
         "Gable",
         "CompShg",
         "VinylSd",
         "VinylSd",
         "BrkFace",
         "20.0",
         "TA",
         "TA",
         "PConc",
         "TA",
         "TA",
         "No",
         "GLQ",
         "602.0",
         "Unf",
         "0.0",
         "324.0",
         "926.0",
         "GasA",
         "Ex",
         "Y",
         "SBrkr",
         "926",
         "678",
         "0",
         "1604",
         "0.0",
         "0.0",
         "2",
         "1",
         "3",
         "1",
         "Gd",
         "7",
         "Typ",
         "1",
         "Gd",
         "Attchd",
         "1998.0",
         "Fin",
         "2.0",
         "470.0",
         "TA",
         "TA",
         "Y",
         "360",
         "36",
         "0",
         "0",
         "0",
         "0",
         null,
         null,
         null,
         "0",
         "6",
         "2010",
         "WD",
         "Normal"
        ],
        [
         "4",
         "1465",
         "120",
         "RL",
         "43.0",
         "5005",
         "Pave",
         null,
         "IR1",
         "HLS",
         "AllPub",
         "Inside",
         "Gtl",
         "StoneBr",
         "Norm",
         "Norm",
         "TwnhsE",
         "1Story",
         "8",
         "5",
         "1992",
         "1992",
         "Gable",
         "CompShg",
         "HdBoard",
         "HdBoard",
         null,
         "0.0",
         "Gd",
         "TA",
         "PConc",
         "Gd",
         "TA",
         "No",
         "ALQ",
         "263.0",
         "Unf",
         "0.0",
         "1017.0",
         "1280.0",
         "GasA",
         "Ex",
         "Y",
         "SBrkr",
         "1280",
         "0",
         "0",
         "1280",
         "0.0",
         "0.0",
         "2",
         "0",
         "2",
         "1",
         "Gd",
         "5",
         "Typ",
         "0",
         null,
         "Attchd",
         "1992.0",
         "RFn",
         "2.0",
         "506.0",
         "TA",
         "TA",
         "Y",
         "0",
         "82",
         "0",
         "0",
         "144",
         "0",
         null,
         null,
         null,
         "0",
         "1",
         "2010",
         "WD",
         "Normal"
        ]
       ],
       "shape": {
        "columns": 80,
        "rows": 5
       }
      },
      "text/html": [
       "<div>\n",
       "<style scoped>\n",
       "    .dataframe tbody tr th:only-of-type {\n",
       "        vertical-align: middle;\n",
       "    }\n",
       "\n",
       "    .dataframe tbody tr th {\n",
       "        vertical-align: top;\n",
       "    }\n",
       "\n",
       "    .dataframe thead th {\n",
       "        text-align: right;\n",
       "    }\n",
       "</style>\n",
       "<table border=\"1\" class=\"dataframe\">\n",
       "  <thead>\n",
       "    <tr style=\"text-align: right;\">\n",
       "      <th></th>\n",
       "      <th>Id</th>\n",
       "      <th>MSSubClass</th>\n",
       "      <th>MSZoning</th>\n",
       "      <th>LotFrontage</th>\n",
       "      <th>LotArea</th>\n",
       "      <th>Street</th>\n",
       "      <th>Alley</th>\n",
       "      <th>LotShape</th>\n",
       "      <th>LandContour</th>\n",
       "      <th>Utilities</th>\n",
       "      <th>...</th>\n",
       "      <th>ScreenPorch</th>\n",
       "      <th>PoolArea</th>\n",
       "      <th>PoolQC</th>\n",
       "      <th>Fence</th>\n",
       "      <th>MiscFeature</th>\n",
       "      <th>MiscVal</th>\n",
       "      <th>MoSold</th>\n",
       "      <th>YrSold</th>\n",
       "      <th>SaleType</th>\n",
       "      <th>SaleCondition</th>\n",
       "    </tr>\n",
       "  </thead>\n",
       "  <tbody>\n",
       "    <tr>\n",
       "      <th>0</th>\n",
       "      <td>1461</td>\n",
       "      <td>20</td>\n",
       "      <td>RH</td>\n",
       "      <td>80.0</td>\n",
       "      <td>11622</td>\n",
       "      <td>Pave</td>\n",
       "      <td>NaN</td>\n",
       "      <td>Reg</td>\n",
       "      <td>Lvl</td>\n",
       "      <td>AllPub</td>\n",
       "      <td>...</td>\n",
       "      <td>120</td>\n",
       "      <td>0</td>\n",
       "      <td>NaN</td>\n",
       "      <td>MnPrv</td>\n",
       "      <td>NaN</td>\n",
       "      <td>0</td>\n",
       "      <td>6</td>\n",
       "      <td>2010</td>\n",
       "      <td>WD</td>\n",
       "      <td>Normal</td>\n",
       "    </tr>\n",
       "    <tr>\n",
       "      <th>1</th>\n",
       "      <td>1462</td>\n",
       "      <td>20</td>\n",
       "      <td>RL</td>\n",
       "      <td>81.0</td>\n",
       "      <td>14267</td>\n",
       "      <td>Pave</td>\n",
       "      <td>NaN</td>\n",
       "      <td>IR1</td>\n",
       "      <td>Lvl</td>\n",
       "      <td>AllPub</td>\n",
       "      <td>...</td>\n",
       "      <td>0</td>\n",
       "      <td>0</td>\n",
       "      <td>NaN</td>\n",
       "      <td>NaN</td>\n",
       "      <td>Gar2</td>\n",
       "      <td>12500</td>\n",
       "      <td>6</td>\n",
       "      <td>2010</td>\n",
       "      <td>WD</td>\n",
       "      <td>Normal</td>\n",
       "    </tr>\n",
       "    <tr>\n",
       "      <th>2</th>\n",
       "      <td>1463</td>\n",
       "      <td>60</td>\n",
       "      <td>RL</td>\n",
       "      <td>74.0</td>\n",
       "      <td>13830</td>\n",
       "      <td>Pave</td>\n",
       "      <td>NaN</td>\n",
       "      <td>IR1</td>\n",
       "      <td>Lvl</td>\n",
       "      <td>AllPub</td>\n",
       "      <td>...</td>\n",
       "      <td>0</td>\n",
       "      <td>0</td>\n",
       "      <td>NaN</td>\n",
       "      <td>MnPrv</td>\n",
       "      <td>NaN</td>\n",
       "      <td>0</td>\n",
       "      <td>3</td>\n",
       "      <td>2010</td>\n",
       "      <td>WD</td>\n",
       "      <td>Normal</td>\n",
       "    </tr>\n",
       "    <tr>\n",
       "      <th>3</th>\n",
       "      <td>1464</td>\n",
       "      <td>60</td>\n",
       "      <td>RL</td>\n",
       "      <td>78.0</td>\n",
       "      <td>9978</td>\n",
       "      <td>Pave</td>\n",
       "      <td>NaN</td>\n",
       "      <td>IR1</td>\n",
       "      <td>Lvl</td>\n",
       "      <td>AllPub</td>\n",
       "      <td>...</td>\n",
       "      <td>0</td>\n",
       "      <td>0</td>\n",
       "      <td>NaN</td>\n",
       "      <td>NaN</td>\n",
       "      <td>NaN</td>\n",
       "      <td>0</td>\n",
       "      <td>6</td>\n",
       "      <td>2010</td>\n",
       "      <td>WD</td>\n",
       "      <td>Normal</td>\n",
       "    </tr>\n",
       "    <tr>\n",
       "      <th>4</th>\n",
       "      <td>1465</td>\n",
       "      <td>120</td>\n",
       "      <td>RL</td>\n",
       "      <td>43.0</td>\n",
       "      <td>5005</td>\n",
       "      <td>Pave</td>\n",
       "      <td>NaN</td>\n",
       "      <td>IR1</td>\n",
       "      <td>HLS</td>\n",
       "      <td>AllPub</td>\n",
       "      <td>...</td>\n",
       "      <td>144</td>\n",
       "      <td>0</td>\n",
       "      <td>NaN</td>\n",
       "      <td>NaN</td>\n",
       "      <td>NaN</td>\n",
       "      <td>0</td>\n",
       "      <td>1</td>\n",
       "      <td>2010</td>\n",
       "      <td>WD</td>\n",
       "      <td>Normal</td>\n",
       "    </tr>\n",
       "  </tbody>\n",
       "</table>\n",
       "<p>5 rows × 80 columns</p>\n",
       "</div>"
      ],
      "text/plain": [
       "     Id  MSSubClass MSZoning  LotFrontage  LotArea Street Alley LotShape  \\\n",
       "0  1461          20       RH         80.0    11622   Pave   NaN      Reg   \n",
       "1  1462          20       RL         81.0    14267   Pave   NaN      IR1   \n",
       "2  1463          60       RL         74.0    13830   Pave   NaN      IR1   \n",
       "3  1464          60       RL         78.0     9978   Pave   NaN      IR1   \n",
       "4  1465         120       RL         43.0     5005   Pave   NaN      IR1   \n",
       "\n",
       "  LandContour Utilities  ... ScreenPorch PoolArea PoolQC  Fence MiscFeature  \\\n",
       "0         Lvl    AllPub  ...         120        0    NaN  MnPrv         NaN   \n",
       "1         Lvl    AllPub  ...           0        0    NaN    NaN        Gar2   \n",
       "2         Lvl    AllPub  ...           0        0    NaN  MnPrv         NaN   \n",
       "3         Lvl    AllPub  ...           0        0    NaN    NaN         NaN   \n",
       "4         HLS    AllPub  ...         144        0    NaN    NaN         NaN   \n",
       "\n",
       "  MiscVal MoSold  YrSold  SaleType  SaleCondition  \n",
       "0       0      6    2010        WD         Normal  \n",
       "1   12500      6    2010        WD         Normal  \n",
       "2       0      3    2010        WD         Normal  \n",
       "3       0      6    2010        WD         Normal  \n",
       "4       0      1    2010        WD         Normal  \n",
       "\n",
       "[5 rows x 80 columns]"
      ]
     },
     "execution_count": 33,
     "metadata": {},
     "output_type": "execute_result"
    }
   ],
   "source": [
    "# ensure the test data has the same features as the training data\n",
    "test_data_encoded = test_data_encoded.reindex(columns=features_df.columns, fill_value=0)\n",
    "test_data.head()"
   ]
  },
  {
   "cell_type": "markdown",
   "id": "aed3530d",
   "metadata": {},
   "source": [
    "### Scaling test data"
   ]
  },
  {
   "cell_type": "code",
   "execution_count": 34,
   "id": "7536d451",
   "metadata": {},
   "outputs": [],
   "source": [
    "scaled_test_features = scaler.transform(test_data_encoded)\n",
    "scaled_test_features_df = pd.DataFrame(scaled_test_features, columns=test_data_encoded.columns)"
   ]
  },
  {
   "cell_type": "markdown",
   "id": "a52c31d3",
   "metadata": {},
   "source": [
    "### Predict on test data"
   ]
  },
  {
   "cell_type": "code",
   "execution_count": 35,
   "id": "9470d457",
   "metadata": {},
   "outputs": [],
   "source": [
    "test_preds = model.predict(scaled_test_features_df)"
   ]
  },
  {
   "cell_type": "markdown",
   "id": "f17dc886",
   "metadata": {},
   "source": [
    "## Giving out results in csv file"
   ]
  },
  {
   "cell_type": "code",
   "execution_count": 36,
   "id": "652457ef",
   "metadata": {},
   "outputs": [],
   "source": [
    "output = pd.DataFrame({'Id': test_data.Id,\n",
    "                       'SalePrice': test_preds})\n",
    "output.to_csv('submission_03.csv', index=False)"
   ]
  }
 ],
 "metadata": {
  "kernelspec": {
   "display_name": "Python 3",
   "language": "python",
   "name": "python3"
  },
  "language_info": {
   "codemirror_mode": {
    "name": "ipython",
    "version": 3
   },
   "file_extension": ".py",
   "mimetype": "text/x-python",
   "name": "python",
   "nbconvert_exporter": "python",
   "pygments_lexer": "ipython3",
   "version": "3.13.3"
  }
 },
 "nbformat": 4,
 "nbformat_minor": 5
}
